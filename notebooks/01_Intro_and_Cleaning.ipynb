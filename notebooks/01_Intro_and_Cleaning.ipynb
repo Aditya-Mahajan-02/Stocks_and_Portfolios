{
 "cells": [
  {
   "cell_type": "markdown",
   "id": "f931c8f9-ab89-4928-b164-1ad6a1ad29f3",
   "metadata": {},
   "source": [
    "### Imports"
   ]
  },
  {
   "cell_type": "code",
   "execution_count": 3,
   "id": "bdcd5798-520f-4635-ae56-46366e8b9d9c",
   "metadata": {},
   "outputs": [],
   "source": [
    "import pandas as pd\n",
    "import matplotlib.pyplot as plt\n",
    "import seaborn as sns"
   ]
  },
  {
   "cell_type": "markdown",
   "id": "92c063d0-b5db-494b-bc63-1c63ec84bdbe",
   "metadata": {},
   "source": [
    "### Read in the Data \n",
    "\n",
    "Source: https://github.com/ahsan084/Banking-Dataset"
   ]
  },
  {
   "cell_type": "code",
   "execution_count": 4,
   "id": "0a14a349-4aa2-4bfa-af0c-daf8856fdb85",
   "metadata": {},
   "outputs": [],
   "source": [
    "file_path = '../data/Comprehensive_Banking_Database.csv'\n",
    "df = pd.read_csv(file_path)"
   ]
  },
  {
   "cell_type": "code",
   "execution_count": 9,
   "id": "558ed9de-25b3-40c6-8704-40492863ae73",
   "metadata": {},
   "outputs": [
    {
     "data": {
      "text/html": [
       "<div>\n",
       "<style scoped>\n",
       "    .dataframe tbody tr th:only-of-type {\n",
       "        vertical-align: middle;\n",
       "    }\n",
       "\n",
       "    .dataframe tbody tr th {\n",
       "        vertical-align: top;\n",
       "    }\n",
       "\n",
       "    .dataframe thead th {\n",
       "        text-align: right;\n",
       "    }\n",
       "</style>\n",
       "<table border=\"1\" class=\"dataframe\">\n",
       "  <thead>\n",
       "    <tr style=\"text-align: right;\">\n",
       "      <th></th>\n",
       "      <th>Customer ID</th>\n",
       "      <th>First Name</th>\n",
       "      <th>Last Name</th>\n",
       "      <th>Age</th>\n",
       "      <th>Gender</th>\n",
       "      <th>Address</th>\n",
       "      <th>City</th>\n",
       "      <th>Contact Number</th>\n",
       "      <th>Email</th>\n",
       "      <th>Account Type</th>\n",
       "      <th>...</th>\n",
       "      <th>Minimum Payment Due</th>\n",
       "      <th>Payment Due Date</th>\n",
       "      <th>Last Credit Card Payment Date</th>\n",
       "      <th>Rewards Points</th>\n",
       "      <th>Feedback ID</th>\n",
       "      <th>Feedback Date</th>\n",
       "      <th>Feedback Type</th>\n",
       "      <th>Resolution Status</th>\n",
       "      <th>Resolution Date</th>\n",
       "      <th>Anomaly</th>\n",
       "    </tr>\n",
       "  </thead>\n",
       "  <tbody>\n",
       "    <tr>\n",
       "      <th>0</th>\n",
       "      <td>1</td>\n",
       "      <td>Joshua</td>\n",
       "      <td>Hall</td>\n",
       "      <td>45</td>\n",
       "      <td>Male</td>\n",
       "      <td>Address_1</td>\n",
       "      <td>Fort Worth</td>\n",
       "      <td>19458794854</td>\n",
       "      <td>joshua.hall@kag.com</td>\n",
       "      <td>Current</td>\n",
       "      <td>...</td>\n",
       "      <td>226.22</td>\n",
       "      <td>11/26/2023</td>\n",
       "      <td>3/20/2023</td>\n",
       "      <td>8142</td>\n",
       "      <td>1</td>\n",
       "      <td>10/6/2023</td>\n",
       "      <td>Suggestion</td>\n",
       "      <td>Resolved</td>\n",
       "      <td>1/22/2023</td>\n",
       "      <td>1</td>\n",
       "    </tr>\n",
       "    <tr>\n",
       "      <th>1</th>\n",
       "      <td>2</td>\n",
       "      <td>Mark</td>\n",
       "      <td>Taylor</td>\n",
       "      <td>47</td>\n",
       "      <td>Female</td>\n",
       "      <td>Address_2</td>\n",
       "      <td>Louisville</td>\n",
       "      <td>19458794855</td>\n",
       "      <td>mark.taylor@kag.com</td>\n",
       "      <td>Current</td>\n",
       "      <td>...</td>\n",
       "      <td>42.84</td>\n",
       "      <td>11/5/2023</td>\n",
       "      <td>6/16/2023</td>\n",
       "      <td>4306</td>\n",
       "      <td>2</td>\n",
       "      <td>4/7/2023</td>\n",
       "      <td>Complaint</td>\n",
       "      <td>Resolved</td>\n",
       "      <td>8/27/2023</td>\n",
       "      <td>1</td>\n",
       "    </tr>\n",
       "    <tr>\n",
       "      <th>2</th>\n",
       "      <td>3</td>\n",
       "      <td>Joseph</td>\n",
       "      <td>Flores</td>\n",
       "      <td>25</td>\n",
       "      <td>Female</td>\n",
       "      <td>Address_3</td>\n",
       "      <td>Philadelphia</td>\n",
       "      <td>19458794856</td>\n",
       "      <td>joseph.flores@kag.com</td>\n",
       "      <td>Current</td>\n",
       "      <td>...</td>\n",
       "      <td>162.12</td>\n",
       "      <td>1/8/2023</td>\n",
       "      <td>3/20/2023</td>\n",
       "      <td>4842</td>\n",
       "      <td>3</td>\n",
       "      <td>9/7/2023</td>\n",
       "      <td>Praise</td>\n",
       "      <td>Pending</td>\n",
       "      <td>5/11/2023</td>\n",
       "      <td>1</td>\n",
       "    </tr>\n",
       "    <tr>\n",
       "      <th>3</th>\n",
       "      <td>4</td>\n",
       "      <td>Kevin</td>\n",
       "      <td>Lee</td>\n",
       "      <td>52</td>\n",
       "      <td>Other</td>\n",
       "      <td>Address_4</td>\n",
       "      <td>Oklahoma City</td>\n",
       "      <td>19458794857</td>\n",
       "      <td>kevin.lee@kag.com</td>\n",
       "      <td>Savings</td>\n",
       "      <td>...</td>\n",
       "      <td>216.46</td>\n",
       "      <td>9/8/2023</td>\n",
       "      <td>10/15/2023</td>\n",
       "      <td>9463</td>\n",
       "      <td>4</td>\n",
       "      <td>5/28/2023</td>\n",
       "      <td>Complaint</td>\n",
       "      <td>Resolved</td>\n",
       "      <td>7/5/2023</td>\n",
       "      <td>1</td>\n",
       "    </tr>\n",
       "    <tr>\n",
       "      <th>4</th>\n",
       "      <td>5</td>\n",
       "      <td>Linda</td>\n",
       "      <td>Johnson</td>\n",
       "      <td>68</td>\n",
       "      <td>Other</td>\n",
       "      <td>Address_5</td>\n",
       "      <td>Phoenix</td>\n",
       "      <td>19458794858</td>\n",
       "      <td>linda.johnson@kag.com</td>\n",
       "      <td>Savings</td>\n",
       "      <td>...</td>\n",
       "      <td>1.29</td>\n",
       "      <td>3/4/2023</td>\n",
       "      <td>7/27/2023</td>\n",
       "      <td>2209</td>\n",
       "      <td>5</td>\n",
       "      <td>2/12/2023</td>\n",
       "      <td>Complaint</td>\n",
       "      <td>Resolved</td>\n",
       "      <td>11/21/2023</td>\n",
       "      <td>1</td>\n",
       "    </tr>\n",
       "  </tbody>\n",
       "</table>\n",
       "<p>5 rows × 40 columns</p>\n",
       "</div>"
      ],
      "text/plain": [
       "   Customer ID First Name Last Name  Age  Gender    Address           City  \\\n",
       "0            1     Joshua      Hall   45    Male  Address_1     Fort Worth   \n",
       "1            2       Mark    Taylor   47  Female  Address_2     Louisville   \n",
       "2            3     Joseph    Flores   25  Female  Address_3   Philadelphia   \n",
       "3            4      Kevin       Lee   52   Other  Address_4  Oklahoma City   \n",
       "4            5      Linda   Johnson   68   Other  Address_5        Phoenix   \n",
       "\n",
       "   Contact Number                  Email Account Type  ...  \\\n",
       "0     19458794854    joshua.hall@kag.com      Current  ...   \n",
       "1     19458794855    mark.taylor@kag.com      Current  ...   \n",
       "2     19458794856  joseph.flores@kag.com      Current  ...   \n",
       "3     19458794857      kevin.lee@kag.com      Savings  ...   \n",
       "4     19458794858  linda.johnson@kag.com      Savings  ...   \n",
       "\n",
       "   Minimum Payment Due Payment Due Date Last Credit Card Payment Date  \\\n",
       "0               226.22       11/26/2023                     3/20/2023   \n",
       "1                42.84        11/5/2023                     6/16/2023   \n",
       "2               162.12         1/8/2023                     3/20/2023   \n",
       "3               216.46         9/8/2023                    10/15/2023   \n",
       "4                 1.29         3/4/2023                     7/27/2023   \n",
       "\n",
       "   Rewards Points Feedback ID Feedback Date  Feedback Type  Resolution Status  \\\n",
       "0            8142           1     10/6/2023     Suggestion           Resolved   \n",
       "1            4306           2      4/7/2023      Complaint           Resolved   \n",
       "2            4842           3      9/7/2023         Praise            Pending   \n",
       "3            9463           4     5/28/2023      Complaint           Resolved   \n",
       "4            2209           5     2/12/2023      Complaint           Resolved   \n",
       "\n",
       "   Resolution Date  Anomaly  \n",
       "0        1/22/2023        1  \n",
       "1        8/27/2023        1  \n",
       "2        5/11/2023        1  \n",
       "3         7/5/2023        1  \n",
       "4       11/21/2023        1  \n",
       "\n",
       "[5 rows x 40 columns]"
      ]
     },
     "execution_count": 9,
     "metadata": {},
     "output_type": "execute_result"
    }
   ],
   "source": [
    "df.head()"
   ]
  },
  {
   "cell_type": "code",
   "execution_count": 7,
   "id": "998d334f-5974-4588-8dde-3405f13870e4",
   "metadata": {},
   "outputs": [
    {
     "data": {
      "text/plain": [
       "(5000, 40)"
      ]
     },
     "execution_count": 7,
     "metadata": {},
     "output_type": "execute_result"
    }
   ],
   "source": [
    "df.shape"
   ]
  },
  {
   "cell_type": "markdown",
   "id": "c87a2246-8fc4-4e69-80eb-72083c2ae1fe",
   "metadata": {},
   "source": [
    "### Check for Missing Values\n",
    "\n",
    "There are no missing values in this dataset. "
   ]
  },
  {
   "cell_type": "code",
   "execution_count": 9,
   "id": "1931e618-f1ba-43b2-93a4-11501e98b6e9",
   "metadata": {},
   "outputs": [
    {
     "data": {
      "text/plain": [
       "Customer ID                          0\n",
       "First Name                           0\n",
       "Last Name                            0\n",
       "Age                                  0\n",
       "Gender                               0\n",
       "Address                              0\n",
       "City                                 0\n",
       "Contact Number                       0\n",
       "Email                                0\n",
       "Account Type                         0\n",
       "Account Balance                      0\n",
       "Date Of Account Opening              0\n",
       "Last Transaction Date                0\n",
       "TransactionID                        0\n",
       "Transaction Date                     0\n",
       "Transaction Type                     0\n",
       "Transaction Amount                   0\n",
       "Account Balance After Transaction    0\n",
       "Branch ID                            0\n",
       "Loan ID                              0\n",
       "Loan Amount                          0\n",
       "Loan Type                            0\n",
       "Interest Rate                        0\n",
       "Loan Term                            0\n",
       "Approval/Rejection Date              0\n",
       "Loan Status                          0\n",
       "CardID                               0\n",
       "Card Type                            0\n",
       "Credit Limit                         0\n",
       "Credit Card Balance                  0\n",
       "Minimum Payment Due                  0\n",
       "Payment Due Date                     0\n",
       "Last Credit Card Payment Date        0\n",
       "Rewards Points                       0\n",
       "Feedback ID                          0\n",
       "Feedback Date                        0\n",
       "Feedback Type                        0\n",
       "Resolution Status                    0\n",
       "Resolution Date                      0\n",
       "Anomaly                              0\n",
       "dtype: int64"
      ]
     },
     "execution_count": 9,
     "metadata": {},
     "output_type": "execute_result"
    }
   ],
   "source": [
    "df.isnull().sum()"
   ]
  },
  {
   "cell_type": "code",
   "execution_count": 11,
   "id": "0735c387-5e9a-42e3-a4da-43acfbe784f5",
   "metadata": {},
   "outputs": [
    {
     "data": {
      "text/plain": [
       "Index(['Customer ID', 'First Name', 'Last Name', 'Age', 'Gender', 'Address',\n",
       "       'City', 'Contact Number', 'Email', 'Account Type', 'Account Balance',\n",
       "       'Date Of Account Opening', 'Last Transaction Date', 'TransactionID',\n",
       "       'Transaction Date', 'Transaction Type', 'Transaction Amount',\n",
       "       'Account Balance After Transaction', 'Branch ID', 'Loan ID',\n",
       "       'Loan Amount', 'Loan Type', 'Interest Rate', 'Loan Term',\n",
       "       'Approval/Rejection Date', 'Loan Status', 'CardID', 'Card Type',\n",
       "       'Credit Limit', 'Credit Card Balance', 'Minimum Payment Due',\n",
       "       'Payment Due Date', 'Last Credit Card Payment Date', 'Rewards Points',\n",
       "       'Feedback ID', 'Feedback Date', 'Feedback Type', 'Resolution Status',\n",
       "       'Resolution Date', 'Anomaly'],\n",
       "      dtype='object')"
      ]
     },
     "execution_count": 11,
     "metadata": {},
     "output_type": "execute_result"
    }
   ],
   "source": [
    "df.columns"
   ]
  },
  {
   "cell_type": "markdown",
   "id": "090ac946-85a0-4746-84f5-fa4a81c1179f",
   "metadata": {},
   "source": [
    "### Clean Columns \n",
    "\n",
    "The original dataset has 40 columns, not all of these columns will be used for our clustering models.\n",
    "\n",
    "#### **Columns to Keep**\n",
    "* **Customer ID:** A unique identifier for each user\n",
    "* **Age:** May be indicative of risk tolerance\n",
    "* **City** Shows regional differences, ex: users in larger cities may have different investing practices than those living in rural areas\n",
    "*  **Account Balance:** Shows how much user is likely to invest and risk tolerance\n",
    "\n",
    "#### **Columns to Keep (Tentatively)**\n",
    "*  **Credit Limit, Credit Card Balance:** Might be useful to know user's credit health, this may impact investment decisions\n",
    "*  **Account Type:** Segmenting users based on account type(savings, checking) could help determine their investment profiles\n",
    "*  **Gender:** Could provide insights to portfolio prefernces just like age\n",
    "\n",
    "#### **Columns to Drop**\n",
    "* **Name:** Not useful for clustering\n",
    "* **Address, Contact Number, Email:** Personal info is not relevant\n",
    "* **Account Info:** Specifics are not useful\n",
    "* **Feedback Data:** Has no predictive value\n",
    "* **Branch ID:** Not relevant to user\n"
   ]
  },
  {
   "cell_type": "code",
   "execution_count": 13,
   "id": "5756bbe5-3cf2-4b4f-ad64-b1d774d22240",
   "metadata": {},
   "outputs": [],
   "source": [
    "# Listing relevant columns \n",
    "relevant_columns = ['Customer ID', 'Age', 'Gender', 'City', 'Account Type', 'Account Balance', 'Account Balance After Transaction', 'Credit Limit', 'Credit Card Balance']"
   ]
  },
  {
   "cell_type": "code",
   "execution_count": 15,
   "id": "da1c1714-dfd1-4ac0-9997-d081f4662c5b",
   "metadata": {},
   "outputs": [],
   "source": [
    "clean_df = df[relevant_columns]"
   ]
  },
  {
   "cell_type": "code",
   "execution_count": 17,
   "id": "f4e8ff5e-245c-4505-a866-78931a8aa06d",
   "metadata": {},
   "outputs": [
    {
     "data": {
      "text/html": [
       "<div>\n",
       "<style scoped>\n",
       "    .dataframe tbody tr th:only-of-type {\n",
       "        vertical-align: middle;\n",
       "    }\n",
       "\n",
       "    .dataframe tbody tr th {\n",
       "        vertical-align: top;\n",
       "    }\n",
       "\n",
       "    .dataframe thead th {\n",
       "        text-align: right;\n",
       "    }\n",
       "</style>\n",
       "<table border=\"1\" class=\"dataframe\">\n",
       "  <thead>\n",
       "    <tr style=\"text-align: right;\">\n",
       "      <th></th>\n",
       "      <th>Age</th>\n",
       "      <th>Gender</th>\n",
       "      <th>City</th>\n",
       "      <th>Account Type</th>\n",
       "      <th>Account Balance</th>\n",
       "      <th>Account Balance After Transaction</th>\n",
       "      <th>Credit Limit</th>\n",
       "      <th>Credit Card Balance</th>\n",
       "    </tr>\n",
       "    <tr>\n",
       "      <th>Customer ID</th>\n",
       "      <th></th>\n",
       "      <th></th>\n",
       "      <th></th>\n",
       "      <th></th>\n",
       "      <th></th>\n",
       "      <th></th>\n",
       "      <th></th>\n",
       "      <th></th>\n",
       "    </tr>\n",
       "  </thead>\n",
       "  <tbody>\n",
       "    <tr>\n",
       "      <th>1</th>\n",
       "      <td>45</td>\n",
       "      <td>Male</td>\n",
       "      <td>Fort Worth</td>\n",
       "      <td>Current</td>\n",
       "      <td>1313.38</td>\n",
       "      <td>2770.99</td>\n",
       "      <td>1737.88</td>\n",
       "      <td>4524.32</td>\n",
       "    </tr>\n",
       "    <tr>\n",
       "      <th>2</th>\n",
       "      <td>47</td>\n",
       "      <td>Female</td>\n",
       "      <td>Louisville</td>\n",
       "      <td>Current</td>\n",
       "      <td>5988.46</td>\n",
       "      <td>7649.45</td>\n",
       "      <td>1799.36</td>\n",
       "      <td>856.70</td>\n",
       "    </tr>\n",
       "    <tr>\n",
       "      <th>3</th>\n",
       "      <td>25</td>\n",
       "      <td>Female</td>\n",
       "      <td>Philadelphia</td>\n",
       "      <td>Current</td>\n",
       "      <td>8277.88</td>\n",
       "      <td>7437.97</td>\n",
       "      <td>6112.96</td>\n",
       "      <td>3242.36</td>\n",
       "    </tr>\n",
       "    <tr>\n",
       "      <th>4</th>\n",
       "      <td>52</td>\n",
       "      <td>Other</td>\n",
       "      <td>Oklahoma City</td>\n",
       "      <td>Savings</td>\n",
       "      <td>7487.21</td>\n",
       "      <td>12396.10</td>\n",
       "      <td>2069.41</td>\n",
       "      <td>4329.17</td>\n",
       "    </tr>\n",
       "    <tr>\n",
       "      <th>5</th>\n",
       "      <td>68</td>\n",
       "      <td>Other</td>\n",
       "      <td>Phoenix</td>\n",
       "      <td>Savings</td>\n",
       "      <td>6993.55</td>\n",
       "      <td>6404.48</td>\n",
       "      <td>2765.30</td>\n",
       "      <td>25.72</td>\n",
       "    </tr>\n",
       "  </tbody>\n",
       "</table>\n",
       "</div>"
      ],
      "text/plain": [
       "             Age  Gender           City Account Type  Account Balance  \\\n",
       "Customer ID                                                             \n",
       "1             45    Male     Fort Worth      Current          1313.38   \n",
       "2             47  Female     Louisville      Current          5988.46   \n",
       "3             25  Female   Philadelphia      Current          8277.88   \n",
       "4             52   Other  Oklahoma City      Savings          7487.21   \n",
       "5             68   Other        Phoenix      Savings          6993.55   \n",
       "\n",
       "             Account Balance After Transaction  Credit Limit  \\\n",
       "Customer ID                                                    \n",
       "1                                      2770.99       1737.88   \n",
       "2                                      7649.45       1799.36   \n",
       "3                                      7437.97       6112.96   \n",
       "4                                     12396.10       2069.41   \n",
       "5                                      6404.48       2765.30   \n",
       "\n",
       "             Credit Card Balance  \n",
       "Customer ID                       \n",
       "1                        4524.32  \n",
       "2                         856.70  \n",
       "3                        3242.36  \n",
       "4                        4329.17  \n",
       "5                          25.72  "
      ]
     },
     "execution_count": 17,
     "metadata": {},
     "output_type": "execute_result"
    }
   ],
   "source": [
    "clean_df.set_index('Customer ID', inplace = True)\n",
    "clean_df.head()"
   ]
  },
  {
   "cell_type": "markdown",
   "id": "dc55400d-4654-4bdc-88a8-e703adcb23fa",
   "metadata": {},
   "source": [
    "#### Ensure Data Types are Correct"
   ]
  },
  {
   "cell_type": "code",
   "execution_count": 19,
   "id": "ec04a69c-d3cf-4b30-82d0-19642a44c82b",
   "metadata": {},
   "outputs": [
    {
     "data": {
      "text/plain": [
       "Age                                    int64\n",
       "Gender                                object\n",
       "City                                  object\n",
       "Account Type                          object\n",
       "Account Balance                      float64\n",
       "Account Balance After Transaction    float64\n",
       "Credit Limit                         float64\n",
       "Credit Card Balance                  float64\n",
       "dtype: object"
      ]
     },
     "execution_count": 19,
     "metadata": {},
     "output_type": "execute_result"
    }
   ],
   "source": [
    "clean_df.dtypes"
   ]
  },
  {
   "cell_type": "code",
   "execution_count": 21,
   "id": "811a94e7-2d08-4957-9c01-21def3f26cb4",
   "metadata": {},
   "outputs": [
    {
     "name": "stdout",
     "output_type": "stream",
     "text": [
      "<class 'pandas.core.frame.DataFrame'>\n",
      "Index: 5000 entries, 1 to 5000\n",
      "Data columns (total 8 columns):\n",
      " #   Column                             Non-Null Count  Dtype  \n",
      "---  ------                             --------------  -----  \n",
      " 0   Age                                5000 non-null   int64  \n",
      " 1   Gender                             5000 non-null   object \n",
      " 2   City                               5000 non-null   object \n",
      " 3   Account Type                       5000 non-null   object \n",
      " 4   Account Balance                    5000 non-null   float64\n",
      " 5   Account Balance After Transaction  5000 non-null   float64\n",
      " 6   Credit Limit                       5000 non-null   float64\n",
      " 7   Credit Card Balance                5000 non-null   float64\n",
      "dtypes: float64(4), int64(1), object(3)\n",
      "memory usage: 351.6+ KB\n"
     ]
    }
   ],
   "source": [
    "clean_df.info()"
   ]
  },
  {
   "cell_type": "markdown",
   "id": "782384d7-f8dc-4b83-8f42-afd60feafd36",
   "metadata": {},
   "source": [
    "#### Check for Outliers and Handle if Needed"
   ]
  },
  {
   "cell_type": "code",
   "execution_count": 41,
   "id": "e9989f83-e31b-4667-8323-e0f333ee5974",
   "metadata": {},
   "outputs": [
    {
     "data": {
      "image/png": "[encoded data removed]",
      "text/plain": [
       "<Figure size 640x480 with 1 Axes>"
      ]
     },
     "metadata": {},
     "output_type": "display_data"
    },
    {
     "data": {
      "text/plain": [
       "<Figure size 640x480 with 0 Axes>"
      ]
     },
     "metadata": {},
     "output_type": "display_data"
    }
   ],
   "source": [
    "# Age Outliers \n",
    "clean_df['Age'].hist(bins=20)\n",
    "plt.show()\n",
    "plt.savefig('../images/hist_age.png')"
   ]
  },
  {
   "cell_type": "code",
   "execution_count": 43,
   "id": "cc82d659-da94-4d6c-b04b-6a4c7b64b242",
   "metadata": {},
   "outputs": [
    {
     "data": {
      "image/png": "[encoded data removed]",
      "text/plain": [
       "<Figure size 640x480 with 1 Axes>"
      ]
     },
     "metadata": {},
     "output_type": "display_data"
    },
    {
     "data": {
      "text/plain": [
       "<Figure size 640x480 with 0 Axes>"
      ]
     },
     "metadata": {},
     "output_type": "display_data"
    }
   ],
   "source": [
    "# Account Balance\n",
    "clean_df['Account Balance'].hist(bins=20)\n",
    "plt.show()\n",
    "plt.savefig('../images/hist_acc_bal.png')"
   ]
  },
  {
   "cell_type": "code",
   "execution_count": 45,
   "id": "17288225-0bbb-4ca9-a94f-8457196b0a44",
   "metadata": {},
   "outputs": [
    {
     "data": {
      "image/png": "[encoded data removed]",
      "text/plain": [
       "<Figure size 640x480 with 1 Axes>"
      ]
     },
     "metadata": {},
     "output_type": "display_data"
    },
    {
     "data": {
      "text/plain": [
       "<Figure size 640x480 with 0 Axes>"
      ]
     },
     "metadata": {},
     "output_type": "display_data"
    }
   ],
   "source": [
    "# Account Balance After Transaction\n",
    "clean_df['Account Balance After Transaction'].hist(bins=20)\n",
    "plt.show()\n",
    "plt.savefig('../images/hist_acc_bal_aft.png')"
   ]
  },
  {
   "cell_type": "code",
   "execution_count": 47,
   "id": "360e559c-6c72-4610-a0bc-f251f363f164",
   "metadata": {},
   "outputs": [
    {
     "data": {
      "image/png": "[encoded data removed]",
      "text/plain": [
       "<Figure size 640x480 with 1 Axes>"
      ]
     },
     "metadata": {},
     "output_type": "display_data"
    },
    {
     "data": {
      "text/plain": [
       "<Figure size 640x480 with 0 Axes>"
      ]
     },
     "metadata": {},
     "output_type": "display_data"
    }
   ],
   "source": [
    "# Credit Card Balance\n",
    "clean_df['Credit Card Balance'].hist(bins=20)\n",
    "plt.show()\n",
    "plt.savefig('../images/hist_credit_bal.png')"
   ]
  },
  {
   "cell_type": "code",
   "execution_count": 31,
   "id": "f293df41-e1ae-4dcc-96f8-aebff4dfaa78",
   "metadata": {},
   "outputs": [
    {
     "data": {
      "image/png": "[encoded data removed]",
      "text/plain": [
       "<Figure size 640x480 with 1 Axes>"
      ]
     },
     "metadata": {},
     "output_type": "display_data"
    }
   ],
   "source": [
    "# Credit Card Limit\n",
    "clean_df['Credit Limit'].hist(bins=20)\n",
    "plt.show()\n",
    "plt.savefig('../images/hist_credit_limit.png')"
   ]
  },
  {
   "cell_type": "code",
   "execution_count": 33,
   "id": "7da7c73c-6581-48bb-a97e-86ee6880ada1",
   "metadata": {},
   "outputs": [
    {
     "data": {
      "text/plain": [
       "Gender\n",
       "Female    1727\n",
       "Other     1639\n",
       "Male      1634\n",
       "Name: count, dtype: int64"
      ]
     },
     "execution_count": 33,
     "metadata": {},
     "output_type": "execute_result"
    }
   ],
   "source": [
    "# Distribution of Gender\n",
    "clean_df['Gender'].value_counts()"
   ]
  },
  {
   "cell_type": "code",
   "execution_count": 35,
   "id": "c14180e5-3747-40db-9a7e-9748b1ffcfe0",
   "metadata": {},
   "outputs": [
    {
     "data": {
      "text/plain": [
       "City\n",
       "San Jose            163\n",
       "Indianapolis        152\n",
       "San Francisco       148\n",
       "Detroit             143\n",
       "Denver              138\n",
       "Tucson              138\n",
       "Las Vegas           137\n",
       "El Paso             133\n",
       "Columbus            131\n",
       "Washington          130\n",
       "Atlanta             129\n",
       "Jacksonville        129\n",
       "Los Angeles         127\n",
       "San Diego           126\n",
       "Louisville          126\n",
       "Memphis             126\n",
       "Mesa                125\n",
       "Milwaukee           125\n",
       "New York            125\n",
       "Nashville           125\n",
       "Houston             124\n",
       "Philadelphia        124\n",
       "Colorado Springs    123\n",
       "San Antonio         123\n",
       "Chicago             123\n",
       "Dallas              123\n",
       "Charlotte           122\n",
       "Seattle             122\n",
       "Fort Worth          120\n",
       "Kansas City         119\n",
       "Portland            118\n",
       "Oklahoma City       116\n",
       "Baltimore           115\n",
       "Boston              114\n",
       "Phoenix             110\n",
       "Sacramento          107\n",
       "Austin              107\n",
       "Albuquerque         106\n",
       "Omaha               106\n",
       "Fresno              102\n",
       "Name: count, dtype: int64"
      ]
     },
     "execution_count": 35,
     "metadata": {},
     "output_type": "execute_result"
    }
   ],
   "source": [
    "# Cities\n",
    "clean_df['City'].value_counts()"
   ]
  },
  {
   "cell_type": "markdown",
   "id": "a5ad8414-54f4-45bd-a131-03530e1a3646",
   "metadata": {},
   "source": [
    "#### Save Cleaned DataFrame as .csv"
   ]
  },
  {
   "cell_type": "code",
   "execution_count": 38,
   "id": "36090e1b-5fd5-49f4-b493-9eb8892fe58d",
   "metadata": {},
   "outputs": [],
   "source": [
    "output_path = '../data/clean_data/clean-data.csv'\n",
    "clean_df.to_csv(output_path, index = False)"
   ]
  }
 ],
 "metadata": {
  "kernelspec": {
   "display_name": "Python 3 (ipykernel)",
   "language": "python",
   "name": "python3"
  },
  "language_info": {
   "codemirror_mode": {
    "name": "ipython",
    "version": 3
   },
   "file_extension": ".py",
   "mimetype": "text/x-python",
   "name": "python",
   "nbconvert_exporter": "python",
   "pygments_lexer": "ipython3",
   "version": "3.11.10"
  }
 },
 "nbformat": 4,
 "nbformat_minor": 5
}
