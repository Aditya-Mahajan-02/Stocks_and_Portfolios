{
 "cells": [
  {
   "cell_type": "markdown",
   "id": "cfcb11f6-7a4d-445b-8468-b4b5f22233af",
   "metadata": {},
   "source": [
    "<img src='../images/ga_logo_large.png' style=\"display: block; margin-left: auto; margin-right: auto;\">"
   ]
  },
  {
   "cell_type": "markdown",
   "id": "1aec3540-cf65-4c4d-83b8-a3fae8a9343e",
   "metadata": {},
   "source": [
    "---\n",
    "## Project 4: Stocks and Portfolios"
   ]
  },
  {
   "cell_type": "markdown",
   "id": "d192e47f-68a8-4b64-a117-e9aa82205e1a",
   "metadata": {},
   "source": [
    "---\n",
    "### Problem Statement\n",
    "Lorem ipsum..."
   ]
  },
  {
   "cell_type": "markdown",
   "id": "d2ef1ff3-8fe3-43dc-99d0-71e83fdb7d30",
   "metadata": {},
   "source": [
    "---\n",
    "### Data\n",
    "Lorem ipsum..."
   ]
  },
  {
   "cell_type": "markdown",
   "id": "687cb4bb-342a-42d7-b5a1-f45e14ed60c3",
   "metadata": {},
   "source": [
    "---\n",
    "### Consulted Sources\n",
    "Lorem ipsum..."
   ]
  },
  {
   "cell_type": "markdown",
   "id": "f931c8f9-ab89-4928-b164-1ad6a1ad29f3",
   "metadata": {},
   "source": [
    "---\n",
    "### Imports"
   ]
  },
  {
   "cell_type": "code",
   "execution_count": 1,
   "id": "bdcd5798-520f-4635-ae56-46366e8b9d9c",
   "metadata": {},
   "outputs": [],
   "source": [
    "import pandas as pd\n",
    "import matplotlib.pyplot as plt\n",
    "import seaborn as sns"
   ]
  },
  {
   "cell_type": "markdown",
   "id": "92c063d0-b5db-494b-bc63-1c63ec84bdbe",
   "metadata": {},
   "source": [
    "---\n",
    "### Read in the Data \n",
    "\n",
    "Source: https://github.com/ahsan084/Banking-Dataset"
   ]
  },
  {
   "cell_type": "code",
   "execution_count": 2,
   "id": "0a14a349-4aa2-4bfa-af0c-daf8856fdb85",
   "metadata": {},
   "outputs": [],
   "source": [
    "file_path = '../data/Stock_Data_Final.csv'\n",
    "df = pd.read_csv(file_path)"
   ]
  },
  {
   "cell_type": "code",
   "execution_count": 3,
   "id": "558ed9de-25b3-40c6-8704-40492863ae73",
   "metadata": {},
   "outputs": [
    {
     "data": {
      "text/html": [
       "<div>\n",
       "<style scoped>\n",
       "    .dataframe tbody tr th:only-of-type {\n",
       "        vertical-align: middle;\n",
       "    }\n",
       "\n",
       "    .dataframe tbody tr th {\n",
       "        vertical-align: top;\n",
       "    }\n",
       "\n",
       "    .dataframe thead th {\n",
       "        text-align: right;\n",
       "    }\n",
       "</style>\n",
       "<table border=\"1\" class=\"dataframe\">\n",
       "  <thead>\n",
       "    <tr style=\"text-align: right;\">\n",
       "      <th></th>\n",
       "      <th>v</th>\n",
       "      <th>vw</th>\n",
       "      <th>o</th>\n",
       "      <th>c</th>\n",
       "      <th>h</th>\n",
       "      <th>l</th>\n",
       "      <th>t</th>\n",
       "      <th>n</th>\n",
       "      <th>Symbol</th>\n",
       "    </tr>\n",
       "  </thead>\n",
       "  <tbody>\n",
       "    <tr>\n",
       "      <th>0</th>\n",
       "      <td>119605127.0</td>\n",
       "      <td>233.6043</td>\n",
       "      <td>234.45</td>\n",
       "      <td>230.76</td>\n",
       "      <td>236.85</td>\n",
       "      <td>227.76</td>\n",
       "      <td>1729396800000</td>\n",
       "      <td>1743438</td>\n",
       "      <td>AAPL</td>\n",
       "    </tr>\n",
       "    <tr>\n",
       "      <th>1</th>\n",
       "      <td>358320463.0</td>\n",
       "      <td>230.2414</td>\n",
       "      <td>224.50</td>\n",
       "      <td>235.00</td>\n",
       "      <td>237.49</td>\n",
       "      <td>221.33</td>\n",
       "      <td>1728187200000</td>\n",
       "      <td>5563002</td>\n",
       "      <td>AAPL</td>\n",
       "    </tr>\n",
       "    <tr>\n",
       "      <th>2</th>\n",
       "      <td>411269719.0</td>\n",
       "      <td>227.1824</td>\n",
       "      <td>227.34</td>\n",
       "      <td>226.80</td>\n",
       "      <td>233.00</td>\n",
       "      <td>223.02</td>\n",
       "      <td>1726977600000</td>\n",
       "      <td>5835500</td>\n",
       "      <td>AAPL</td>\n",
       "    </tr>\n",
       "    <tr>\n",
       "      <th>3</th>\n",
       "      <td>737776128.0</td>\n",
       "      <td>223.8730</td>\n",
       "      <td>220.82</td>\n",
       "      <td>228.20</td>\n",
       "      <td>233.09</td>\n",
       "      <td>213.92</td>\n",
       "      <td>1725768000000</td>\n",
       "      <td>7473637</td>\n",
       "      <td>AAPL</td>\n",
       "    </tr>\n",
       "    <tr>\n",
       "      <th>4</th>\n",
       "      <td>374000504.0</td>\n",
       "      <td>225.6062</td>\n",
       "      <td>226.76</td>\n",
       "      <td>220.82</td>\n",
       "      <td>232.92</td>\n",
       "      <td>217.48</td>\n",
       "      <td>1724558400000</td>\n",
       "      <td>5682718</td>\n",
       "      <td>AAPL</td>\n",
       "    </tr>\n",
       "  </tbody>\n",
       "</table>\n",
       "</div>"
      ],
      "text/plain": [
       "             v        vw       o       c       h       l              t  \\\n",
       "0  119605127.0  233.6043  234.45  230.76  236.85  227.76  1729396800000   \n",
       "1  358320463.0  230.2414  224.50  235.00  237.49  221.33  1728187200000   \n",
       "2  411269719.0  227.1824  227.34  226.80  233.00  223.02  1726977600000   \n",
       "3  737776128.0  223.8730  220.82  228.20  233.09  213.92  1725768000000   \n",
       "4  374000504.0  225.6062  226.76  220.82  232.92  217.48  1724558400000   \n",
       "\n",
       "         n Symbol  \n",
       "0  1743438   AAPL  \n",
       "1  5563002   AAPL  \n",
       "2  5835500   AAPL  \n",
       "3  7473637   AAPL  \n",
       "4  5682718   AAPL  "
      ]
     },
     "execution_count": 3,
     "metadata": {},
     "output_type": "execute_result"
    }
   ],
   "source": [
    "df.head()"
   ]
  },
  {
   "cell_type": "code",
   "execution_count": 4,
   "id": "998d334f-5974-4588-8dde-3405f13870e4",
   "metadata": {},
   "outputs": [
    {
     "data": {
      "text/plain": [
       "(26308, 9)"
      ]
     },
     "execution_count": 4,
     "metadata": {},
     "output_type": "execute_result"
    }
   ],
   "source": [
    "df.shape"
   ]
  },
  {
   "cell_type": "markdown",
   "id": "c87a2246-8fc4-4e69-80eb-72083c2ae1fe",
   "metadata": {},
   "source": [
    "---\n",
    "### Check for Missing Values\n",
    "\n",
    "There are no missing values in this dataset. "
   ]
  },
  {
   "cell_type": "code",
   "execution_count": 5,
   "id": "1931e618-f1ba-43b2-93a4-11501e98b6e9",
   "metadata": {},
   "outputs": [
    {
     "data": {
      "text/plain": [
       "v         0\n",
       "vw        0\n",
       "o         0\n",
       "c         0\n",
       "h         0\n",
       "l         0\n",
       "t         0\n",
       "n         0\n",
       "Symbol    0\n",
       "dtype: int64"
      ]
     },
     "execution_count": 5,
     "metadata": {},
     "output_type": "execute_result"
    }
   ],
   "source": [
    "df.isnull().sum()"
   ]
  },
  {
   "cell_type": "code",
   "execution_count": 6,
   "id": "0735c387-5e9a-42e3-a4da-43acfbe784f5",
   "metadata": {},
   "outputs": [
    {
     "data": {
      "text/plain": [
       "Index(['v', 'vw', 'o', 'c', 'h', 'l', 't', 'n', 'Symbol'], dtype='object')"
      ]
     },
     "execution_count": 6,
     "metadata": {},
     "output_type": "execute_result"
    }
   ],
   "source": [
    "df.columns"
   ]
  },
  {
   "cell_type": "markdown",
   "id": "090ac946-85a0-4746-84f5-fa4a81c1179f",
   "metadata": {},
   "source": [
    "---\n",
    "### Clean Columns \n",
    "\n",
    "The original dataset has letters representing different values. Let's change the column names so we can understand them better. \n",
    "\n",
    "* **trading_volume:** (v) The trading volume of the symbol in the given period of time. \n",
    "* **volume_weighted:** (vw) The volume weighted average price.\n",
    "* **open_price:** (o) The open price for the symbol in the given period of time. \n",
    "*  **close_price:** (c) The close price for the symbol in the given period of time. \n",
    "*  **highest_price:** (h) The highest price for the symbol in the given period of time. \n",
    "*  **lowest_price:** (l) The lowest price for the symbol in the given period of time. \n",
    "*  **timestamp:** (t) The Unix Msec timestamp for the start of the aggregate window\n",
    "* **transactions:** (n) The number of transactions in the aggregate window"
   ]
  },
  {
   "cell_type": "code",
   "execution_count": 7,
   "id": "5756bbe5-3cf2-4b4f-ad64-b1d774d22240",
   "metadata": {},
   "outputs": [],
   "source": [
    "# Dictionary of old column names to new column names \n",
    "new_columns = {\n",
    "    'v': 'trading_volume', \n",
    "    'vw': 'volume_weighted', \n",
    "    'o': 'open_price',\n",
    "    'c': 'close_price', \n",
    "    'h': 'highest_price',\n",
    "    'l': 'lowest_price', \n",
    "    't': 'timestamp',\n",
    "    'n': 'transactions'\n",
    "}"
   ]
  },
  {
   "cell_type": "code",
   "execution_count": 8,
   "id": "da1c1714-dfd1-4ac0-9997-d081f4662c5b",
   "metadata": {},
   "outputs": [],
   "source": [
    "clean_df = df.rename(columns = new_columns)"
   ]
  },
  {
   "cell_type": "code",
   "execution_count": 9,
   "id": "f4e8ff5e-245c-4505-a866-78931a8aa06d",
   "metadata": {},
   "outputs": [
    {
     "data": {
      "text/html": [
       "<div>\n",
       "<style scoped>\n",
       "    .dataframe tbody tr th:only-of-type {\n",
       "        vertical-align: middle;\n",
       "    }\n",
       "\n",
       "    .dataframe tbody tr th {\n",
       "        vertical-align: top;\n",
       "    }\n",
       "\n",
       "    .dataframe thead th {\n",
       "        text-align: right;\n",
       "    }\n",
       "</style>\n",
       "<table border=\"1\" class=\"dataframe\">\n",
       "  <thead>\n",
       "    <tr style=\"text-align: right;\">\n",
       "      <th></th>\n",
       "      <th>trading_volume</th>\n",
       "      <th>volume_weighted</th>\n",
       "      <th>open_price</th>\n",
       "      <th>close_price</th>\n",
       "      <th>highest_price</th>\n",
       "      <th>lowest_price</th>\n",
       "      <th>timestamp</th>\n",
       "      <th>transactions</th>\n",
       "      <th>Symbol</th>\n",
       "    </tr>\n",
       "  </thead>\n",
       "  <tbody>\n",
       "    <tr>\n",
       "      <th>0</th>\n",
       "      <td>119605127.0</td>\n",
       "      <td>233.6043</td>\n",
       "      <td>234.45</td>\n",
       "      <td>230.76</td>\n",
       "      <td>236.85</td>\n",
       "      <td>227.76</td>\n",
       "      <td>1729396800000</td>\n",
       "      <td>1743438</td>\n",
       "      <td>AAPL</td>\n",
       "    </tr>\n",
       "    <tr>\n",
       "      <th>1</th>\n",
       "      <td>358320463.0</td>\n",
       "      <td>230.2414</td>\n",
       "      <td>224.50</td>\n",
       "      <td>235.00</td>\n",
       "      <td>237.49</td>\n",
       "      <td>221.33</td>\n",
       "      <td>1728187200000</td>\n",
       "      <td>5563002</td>\n",
       "      <td>AAPL</td>\n",
       "    </tr>\n",
       "    <tr>\n",
       "      <th>2</th>\n",
       "      <td>411269719.0</td>\n",
       "      <td>227.1824</td>\n",
       "      <td>227.34</td>\n",
       "      <td>226.80</td>\n",
       "      <td>233.00</td>\n",
       "      <td>223.02</td>\n",
       "      <td>1726977600000</td>\n",
       "      <td>5835500</td>\n",
       "      <td>AAPL</td>\n",
       "    </tr>\n",
       "    <tr>\n",
       "      <th>3</th>\n",
       "      <td>737776128.0</td>\n",
       "      <td>223.8730</td>\n",
       "      <td>220.82</td>\n",
       "      <td>228.20</td>\n",
       "      <td>233.09</td>\n",
       "      <td>213.92</td>\n",
       "      <td>1725768000000</td>\n",
       "      <td>7473637</td>\n",
       "      <td>AAPL</td>\n",
       "    </tr>\n",
       "    <tr>\n",
       "      <th>4</th>\n",
       "      <td>374000504.0</td>\n",
       "      <td>225.6062</td>\n",
       "      <td>226.76</td>\n",
       "      <td>220.82</td>\n",
       "      <td>232.92</td>\n",
       "      <td>217.48</td>\n",
       "      <td>1724558400000</td>\n",
       "      <td>5682718</td>\n",
       "      <td>AAPL</td>\n",
       "    </tr>\n",
       "  </tbody>\n",
       "</table>\n",
       "</div>"
      ],
      "text/plain": [
       "   trading_volume  volume_weighted  open_price  close_price  highest_price  \\\n",
       "0     119605127.0         233.6043      234.45       230.76         236.85   \n",
       "1     358320463.0         230.2414      224.50       235.00         237.49   \n",
       "2     411269719.0         227.1824      227.34       226.80         233.00   \n",
       "3     737776128.0         223.8730      220.82       228.20         233.09   \n",
       "4     374000504.0         225.6062      226.76       220.82         232.92   \n",
       "\n",
       "   lowest_price      timestamp  transactions Symbol  \n",
       "0        227.76  1729396800000       1743438   AAPL  \n",
       "1        221.33  1728187200000       5563002   AAPL  \n",
       "2        223.02  1726977600000       5835500   AAPL  \n",
       "3        213.92  1725768000000       7473637   AAPL  \n",
       "4        217.48  1724558400000       5682718   AAPL  "
      ]
     },
     "execution_count": 9,
     "metadata": {},
     "output_type": "execute_result"
    }
   ],
   "source": [
    "clean_df.head()"
   ]
  },
  {
   "cell_type": "markdown",
   "id": "264868bb-af23-454e-9223-a02755630211",
   "metadata": {},
   "source": [
    "---\n",
    "### Feature Engineering\n",
    "\n",
    "We want to create new variables that better capture patterns within our dataset and align with clustering stock data. \n",
    "\n",
    "* **price_range:** (highest_price - lowest_price) to understand the stock's price movement in a period\n",
    "* **volatility:** (close_price - open_price) to calculate volatility. Higher volatility means greater price swings and are associated with higher risk investments. Lower volatility alludes to more stable stocks but may offer lower returns.\n",
    "* **price_change_percentage:** (((close_price - open_price)/ open_price) * 100) to see the percentage of change from open to close price "
   ]
  },
  {
   "cell_type": "code",
   "execution_count": 10,
   "id": "3b7c5b0f-1c5e-4be2-b20c-5e649eee5ba3",
   "metadata": {},
   "outputs": [],
   "source": [
    "# Stock's price range\n",
    "clean_df['price_range'] = clean_df['highest_price'] - clean_df['lowest_price']"
   ]
  },
  {
   "cell_type": "code",
   "execution_count": 11,
   "id": "58fa8d29-46af-47ab-8916-0e910e8f171c",
   "metadata": {},
   "outputs": [],
   "source": [
    "# Stock's volatility\n",
    "clean_df['volatility'] = abs(clean_df['close_price'] - clean_df['open_price'])"
   ]
  },
  {
   "cell_type": "code",
   "execution_count": 12,
   "id": "a3e11b96-db57-46b5-9770-23ef49818fcb",
   "metadata": {},
   "outputs": [],
   "source": [
    "# Price change\n",
    "clean_df['price_change_percentage'] = ((clean_df['close_price'] - clean_df['open_price'])/ clean_df['open_price']) * 100"
   ]
  },
  {
   "cell_type": "markdown",
   "id": "dc55400d-4654-4bdc-88a8-e703adcb23fa",
   "metadata": {},
   "source": [
    "---\n",
    "### Ensure Data Types are Correct"
   ]
  },
  {
   "cell_type": "code",
   "execution_count": 13,
   "id": "ec04a69c-d3cf-4b30-82d0-19642a44c82b",
   "metadata": {},
   "outputs": [
    {
     "data": {
      "text/plain": [
       "trading_volume             float64\n",
       "volume_weighted            float64\n",
       "open_price                 float64\n",
       "close_price                float64\n",
       "highest_price              float64\n",
       "lowest_price               float64\n",
       "timestamp                    int64\n",
       "transactions                 int64\n",
       "Symbol                      object\n",
       "price_range                float64\n",
       "volatility                 float64\n",
       "price_change_percentage    float64\n",
       "dtype: object"
      ]
     },
     "execution_count": 13,
     "metadata": {},
     "output_type": "execute_result"
    }
   ],
   "source": [
    "clean_df.dtypes"
   ]
  },
  {
   "cell_type": "code",
   "execution_count": 14,
   "id": "811a94e7-2d08-4957-9c01-21def3f26cb4",
   "metadata": {},
   "outputs": [
    {
     "name": "stdout",
     "output_type": "stream",
     "text": [
      "<class 'pandas.core.frame.DataFrame'>\n",
      "RangeIndex: 26308 entries, 0 to 26307\n",
      "Data columns (total 12 columns):\n",
      " #   Column                   Non-Null Count  Dtype  \n",
      "---  ------                   --------------  -----  \n",
      " 0   trading_volume           26308 non-null  float64\n",
      " 1   volume_weighted          26308 non-null  float64\n",
      " 2   open_price               26308 non-null  float64\n",
      " 3   close_price              26308 non-null  float64\n",
      " 4   highest_price            26308 non-null  float64\n",
      " 5   lowest_price             26308 non-null  float64\n",
      " 6   timestamp                26308 non-null  int64  \n",
      " 7   transactions             26308 non-null  int64  \n",
      " 8   Symbol                   26308 non-null  object \n",
      " 9   price_range              26308 non-null  float64\n",
      " 10  volatility               26308 non-null  float64\n",
      " 11  price_change_percentage  26308 non-null  float64\n",
      "dtypes: float64(9), int64(2), object(1)\n",
      "memory usage: 2.4+ MB\n"
     ]
    }
   ],
   "source": [
    "clean_df.info()"
   ]
  },
  {
   "cell_type": "markdown",
   "id": "a5ad8414-54f4-45bd-a131-03530e1a3646",
   "metadata": {},
   "source": [
    "---\n",
    "### Save Cleaned DataFrame as .csv"
   ]
  },
  {
   "cell_type": "code",
   "execution_count": 15,
   "id": "36090e1b-5fd5-49f4-b493-9eb8892fe58d",
   "metadata": {},
   "outputs": [],
   "source": [
    "output_path = '../data/clean_data/stocks-clean-data.csv'\n",
    "clean_df.to_csv(output_path)"
   ]
  },
  {
   "cell_type": "code",
   "execution_count": null,
   "id": "7672e426-aa27-47cd-9d5b-6bce7b3cafab",
   "metadata": {},
   "outputs": [],
   "source": []
  }
 ],
 "metadata": {
  "kernelspec": {
   "display_name": "Python 3 (ipykernel)",
   "language": "python",
   "name": "python3"
  },
  "language_info": {
   "codemirror_mode": {
    "name": "ipython",
    "version": 3
   },
   "file_extension": ".py",
   "mimetype": "text/x-python",
   "name": "python",
   "nbconvert_exporter": "python",
   "pygments_lexer": "ipython3",
   "version": "3.11.9"
  }
 },
 "nbformat": 4,
 "nbformat_minor": 5
}
