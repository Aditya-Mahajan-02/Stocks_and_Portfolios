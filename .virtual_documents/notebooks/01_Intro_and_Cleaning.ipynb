


import pandas as pd
import matplotlib.pyplot as plt
import seaborn as sns





file_path = '../data/Comprehensive_Banking_Database.csv'
df = pd.read_csv(file_path)


df.head()


df.shape





df.isnull().sum()


df.columns





# Listing relevant columns 
relevant_columns = ['Customer ID', 'Age', 'Gender', 'City', 'Account Type', 'Account Balance', 'Account Balance After Transaction', 'Credit Limit', 'Credit Card Balance']


clean_df = df[relevant_columns]


clean_df.set_index('Customer ID', inplace = True)
clean_df.head()





clean_df.dtypes


clean_df.info()





# Age Outliers 
clean_df['Age'].hist(bins=20)
plt.show()


# Account Balance
clean_df['Account Balance'].hist(bins=20)
plt.show()


# Account Balance After Transaction
clean_df['Account Balance After Transaction'].hist(bins=20)
plt.show()


# Credit Card Balance
clean_df['Credit Card Balance'].hist(bins=20)
plt.show()


# Credit Card Limit
clean_df['Credit Limit'].hist(bins=20)
plt.show()


# Distribution of Gender
clean_df['Gender'].value_counts()


# Cities
clean_df['City'].value_counts()





output_path = '../data/clean_data/clean-data.csv'
clean_df.to_csv(output_path, index = False)
