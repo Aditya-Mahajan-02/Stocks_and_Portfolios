


import pandas as pd
import matplotlib.pyplot as plt

import seaborn as sns
import plotly.express as px

from sklearn.preprocessing import StandardScaler, OneHotEncoder
from sklearn.compose import make_column_transformer
from sklearn.cluster import KMeans
from sklearn.metrics import silhouette_score
from sklearn.cluster import DBSCAN





df = pd.read_csv('../data/clean_data/users-clean-data.csv')





df.head()


df.shape





df.set_index('Customer ID', inplace = True)





df_cluster = df.drop(columns = ['City', 'Account Type'])





column_transformer = make_column_transformer(
    (OneHotEncoder(drop='first'), ['Gender']),  
    remainder='passthrough'  
)


df_encoded = column_transformer.fit_transform(df_cluster)


df_encoded = pd.DataFrame(df_encoded, columns=column_transformer.get_feature_names_out())





ss = StandardScaler()
df_scaled = ss.fit_transform(df_encoded)


df_scaled = pd.DataFrame(df_scaled, columns=df_encoded.columns)


X_train, X_test = train_test_split(X_scaled, test_size=0.2, random_state=42)





# Using default k
kmeans = KMeans(n_clusters=8, random_state=42)
kmeans.fit(df_scaled)


cluster_labels = kmeans.labels_
df['cluster'] = cluster_labels


# Check to see how many clusters
len(df['cluster'].unique())


df[['cluster']]





plt.figure(figsize=(10, 6))
sns.scatterplot(data=df, x='Age', y='Account Balance', hue='cluster', palette='viridis', s=100, alpha=0.7)
plt.title( 'Plot of Age vs Account Balance')
plt.xlabel('Age')
plt.ylabel('Account Balance')
plt.legend(title='Cluster')
plt.show()


sns.pairplot(df, hue='cluster', vars=['Age', 'Account Balance', 'Credit Card Balance'], palette='viridis')
plt.suptitle('Pair Plot of Features Colored by Cluster')  
plt.show()





silhouette_score(df_scaled, cluster_labels)


# Predict the clusters for both train and test data
train_clusters = kmeans.predict(X_train)
test_clusters = kmeans.predict(X_test)


train_silhouette = silhouette_score(X_train, train_clusters)
test_silhouette = silhouette_score(X_test, test_clusters)

print("KMeans Train Silhouette Score:", train_silhouette)
print("KMeans Test Silhouette Score:", test_silhouette)





k_values = range(2, 11)  
silhouette_scores = []

for k in k_values:
    kmeans = KMeans(n_clusters=k, random_state= 42, n_init='auto')
    kmeans.fit(df_scaled)  
    cluster_labels = kmeans.labels_

    silhouette_avg = silhouette_score(df_scaled, cluster_labels)
    silhouette_scores.append(silhouette_avg)
    print(f'Silhouette Score for K={k}: {silhouette_avg:.3f}')


plt.figure(figsize=(10, 6))
plt.plot(k_values, silhouette_scores, marker='o')
plt.title('Elbow Plot of Silhouette Scores')
plt.xlabel('Number of Clusters (K)')
plt.ylabel('Silhouette Score')
plt.xticks(k_values)
plt.grid()
plt.axvline(x=k_values[silhouette_scores.index(max(silhouette_scores))], color='red', linestyle='--', label='Optimal K')
plt.legend()
plt.show()





dbscan = DBSCAN(eps=0.5, min_samples=5)
dbscan_labels = dbscan.fit_predict(df_scaled)


df['dbscan_cluster'] = dbscan_labels


n_clusters = len(set(dbscan_labels)) - (1 if -1 in dbscan_labels else 0) 
n_noise = list(dbscan_labels).count(-1)


print(f'Number of clusters found: {n_clusters}')
print(f'Number of noise points: {n_noise}')


silhouette_score(df_scaled, dbscan.labels_)


plt.figure(figsize=(10, 6))
sns.scatterplot(data=df, x='Age', y='Account Balance', hue='dbscan_cluster', palette='viridis', s=100, alpha=0.7)
plt.title('DBSCAN Clustering')
plt.xlabel('Age')
plt.ylabel('Account Balance')
plt.legend(title='Cluster')
plt.show()


cluster_summary = df.groupby('dbscan_cluster').agg({
    'Age': ['mean', 'median'],
    'Account Balance': ['mean', 'median'],
    'Credit Card Balance': ['mean', 'median']
}).round(2)

print("Cluster Summary Statistics:")
print(cluster_summary)


plt.figure(figsize=(10, 6))
sns.boxplot(data=df, x='dbscan_cluster', y='Age')
plt.title('Age by Cluster')
plt.xlabel('Cluster')
plt.ylabel('Age')
plt.show()

plt.figure(figsize=(10, 6))
sns.boxplot(data=df, x='dbscan_cluster', y='Account Balance')
plt.title('Account Balance by Cluster')
plt.xlabel('Cluster')
plt.ylabel('Account Balance')
plt.show()





# range of eps and min_sample values 
eps_values = [0.1, 0.2, 0.3, 0.5, 0.7, 1]  
min_samples_values = [3, 5, 7]

# store best results 
best_score = 0
best_eps = None
best_min_samples = None

# iterate through the range of eps and min_sample values
for eps in eps_values:
    for min_samples in min_samples_values:
        dbscan = DBSCAN(eps=eps, min_samples=min_samples)
        labels = dbscan.fit_predict(df_scaled)
        
        if len(set(labels)) > 1 and -1 in labels:
            score = silhouette_score(df_scaled, labels)
            print(f"eps={eps}, min_samples={min_samples}, silhouette_score={score:.3f}")
            
            if score > best_score:
                best_score = score
                best_eps = eps
                best_min_samples = min_samples





dbscan_best = DBSCAN(eps=1, min_samples=7)
dbscan_labels_best = dbscan.fit_predict(df_scaled)


df['dbscan_cluster'] = dbscan_labels_best


n_clusters = len(set(dbscan_labels_best)) - (1 if -1 in dbscan_labels_best else 0) 
n_noise = list(dbscan_labels_best).count(-1)


print(f'Number of clusters found: {n_clusters}')
print(f'Number of noise points: {n_noise}')


silhouette_score(df_scaled, dbscan.labels_)


plt.figure(figsize=(10, 6))
sns.scatterplot(data=df, x='Age', y='Account Balance', hue='dbscan_cluster', palette='viridis', s=100, alpha=0.7)
plt.title('DBSCAN Clustering')
plt.xlabel('Age')
plt.ylabel('Account Balance')
plt.legend(title='Cluster')
plt.show()


cluster_summary = df.groupby('dbscan_cluster').agg({
    'Age': ['mean', 'median'],
    'Account Balance': ['mean', 'median'],
    'Credit Card Balance': ['mean', 'median']
}).round(2)

print("Cluster Summary Statistics:")
print(cluster_summary)



