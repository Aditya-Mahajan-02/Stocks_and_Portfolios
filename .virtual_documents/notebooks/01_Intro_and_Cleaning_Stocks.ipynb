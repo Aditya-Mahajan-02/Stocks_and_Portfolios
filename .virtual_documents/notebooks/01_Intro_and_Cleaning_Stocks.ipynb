

















import pandas as pd
import matplotlib.pyplot as plt
import seaborn as sns





file_path = '../data/Stock_Data_Final.csv'
df = pd.read_csv(file_path)


df.head()


df.shape





df.isnull().sum()


df.columns





# Dictionary of old column names to new column names 
new_columns = {
    'v': 'trading_volume', 
    'vw': 'volume_weighted', 
    'o': 'open_price',
    'c': 'close_price', 
    'h': 'highest_price',
    'l': 'lowest_price', 
    't': 'timestamp',
    'n': 'transactions'
}


clean_df = df.rename(columns = new_columns)


clean_df.head()





# Stock's price range
clean_df['price_range'] = clean_df['highest_price'] - clean_df['lowest_price']


# Stock's volatility
clean_df['volatility'] = abs(clean_df['close_price'] - clean_df['open_price'])


# Price change
clean_df['price_change_percentage'] = ((clean_df['close_price'] - clean_df['open_price'])/ clean_df['open_price']) * 100





clean_df.dtypes


clean_df.info()





output_path = '../data/clean_data/stocks-clean-data.csv'
clean_df.to_csv(output_path)



