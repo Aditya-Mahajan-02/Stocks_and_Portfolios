








# modules needed for this notebook
import numpy as np
import pandas as pd
import matplotlib.pyplot as plt
import seaborn as sns


# read in clean file
file_path = '../data/clean_data/users_clean-data.csv'

users = pd.read_csv(file_path)

# check dimensions and first few rows
print(users.shape)
users.head()


# make cols names snake_case
users.rename(columns = {
    'Age': 'age',
    'Gender': 'gender',
    'City': 'city',
    'Account Type': 'acc_type',
    'Account Balance': 'acc_bal',
    'Account Balance After Transaction': 'acc_bal_aft',
    'Credit Limit': 'credit_limit',
    'Credit Card Balance': 'credit_bal'
}, inplace = True)

# confirm
users.columns





# check missing values and data types
users.info()











def plot_hist_box(df, col_name, title = None, xlabel = None):
    '''
    This function plots a histogram and a boxplot of a column.
    
    Parameters:
    col_name: string, this is the column's name
    title: string, the plot title.  Default value is a blank string.
    xlabel: string, the x-axis label.  Default value is a blank string.
    
    Return:
    It returns two plots.  A histogram on the left and a boxplot on the right.
    '''

    plt.figure(figsize = (16, 6))

    plot1 = plt.subplot(1, 2, 1)  # for histogram
    plot2 = plt.subplot(1, 2, 2)  # for box plot

    # histogram ---------------------------------------------------------------------------------------------
    plot1.hist(df[col_name], bins = 25, color = '#00bcd4', edgecolor = '#ffffff');
    plot1.set_title(title, fontweight = 'bold', color = '#6e6e6e', fontsize = 14)
    plot1.set_xlabel(xlabel, color = '#6e6e6e', fontsize = 14)
    plot1.spines['top'].set_visible(False)
    plot1.spines['right'].set_visible(False)
    plot1.tick_params(axis = 'both', which = 'both', colors = '#6e6e6e', labelsize = 12);
    
    
    # box plot -----------------------------------------------------------------------------------------------
    sns.boxplot(data = df[col_name], ax = plot2, orient = 'h', color = '#00bcd4', medianprops = {'color':'#FFFFFF'});
    plot2.set_title(title, fontweight = 'bold', color = '#6e6e6e', fontsize = 14);
    plot2.spines['top'].set_visible(False)
    plot2.spines['left'].set_visible(False)
    plot2.spines['right'].set_visible(False)
    plot2.set_xlabel(xlabel, color = '#6e6e6e', fontsize = 14)
    plot2.tick_params(axis = 'x', which = 'both', colors = '#6e6e6e', labelsize = 12);





def plot_heatmap(df, columns):
    '''
    This function plots a heatmap of the number of columns passed in.
    
    Parameters:
    columns: list, a list of columns to plot.
    
    Return:
    It returns a heatmap of the columns.
    '''

    plt.figure(figsize = (6, 6))

    # heatmap setup
    corrs = round(df[columns].corr(), 2)
    mask = np.zeros_like(corrs)
    mask[np.triu_indices_from(mask)] = True

    # plot heatmap
    sns.heatmap(corrs,
                square = True,
                annot = True,
                cmap = 'Blues',
                mask = mask,
                vmin = -1,
                vmax = 1);








sns.pairplot(users,
             hue = 'gender',
             palette = {             
                        'Female': '#fa57e2',
                        'Male': '#00bcd4',
                        'Other': '#ffae00'
                       }
            );
plt.savefig('../images/users_pairplot.png')





numeric_cols = ['age', 'acc_bal', 'acc_bal_aft', 'credit_limit', 'credit_bal']
plot_heatmap(users, numeric_cols)
plt.savefig('../images/users_numeric_heatmap.png')





plt.figure(figsize = (12, 6))

plot_bal_f = plt.subplot(1, 3, 1)
plot_bal_m = plt.subplot(1, 3, 2)
plot_bal_o = plt.subplot(1, 3, 3)

plot_bal_f.scatter(users[users['gender'] == 'Female']['acc_bal'],
                   users[users['gender'] == 'Female']['acc_bal_aft'],
                   color = '#fa57e2',
                   edgecolors = '#ffffff')

plot_bal_m.scatter(users[users['gender'] == 'Male']['acc_bal'],
                   users[users['gender'] == 'Male']['acc_bal_aft'],
                   color = '#00bcd4',
                   edgecolors = '#ffffff')

plot_bal_o.scatter(users[users['gender'] == 'Other']['acc_bal'],
                   users[users['gender'] == 'Other']['acc_bal_aft'],
                   color = '#ffad00',
                   edgecolors = '#ffffff');





female_users = users[users['gender'] == 'Female']
male_users = users[users['gender'] == 'Male']
other_users = users[users['gender'] == 'Other']

plt.figure(figsize = (12, 6))

plot_bal_f_18 = plt.subplot(1, 3, 1)
plot_bal_m_69 = plt.subplot(1, 3, 2)
plot_bal_o_44 = plt.subplot(1, 3, 3)

plot_bal_f_18.scatter(female_users[female_users['age'] == 18]['acc_bal'],
                   female_users[female_users['age'] == 18]['acc_bal_aft'],
                   color = '#fa57e2',
                   edgecolors = '#ffffff')

plot_bal_m_69.scatter(male_users[male_users['age'] == 69]['acc_bal'],
                   male_users[male_users['age'] == 69]['acc_bal_aft'],
                   color = '#00bcd4',
                   edgecolors = '#ffffff')

plot_bal_o_44.scatter(other_users[other_users['age'] == 44]['acc_bal'],
                   other_users[other_users['age'] == 44]['acc_bal_aft'],
                   color = '#ffad00',
                   edgecolors = '#ffffff');




















# what's the age range?
print(f"Minimum age: {users['age'].min()}, Maximum age: {users['age'].max()}")


# check histogram for age
plot_hist_box(users, 'age', title = 'Age Histogram', xlabel = 'Ages')
plt.savefig('../images/hist_&_boxplot_age.png')





# user count by age
ages = users['age'].value_counts().sort_index().index        # x categories
age_count = users['age'].value_counts().sort_index().values  # y values

plt.figure(figsize = (12, 6))
plot_age = plt.subplot(1, 1, 1)

plot_age.bar(ages, age_count, color = '#00bcd4')

plot_age.spines['top'].set_visible(False)
plot_age.spines['left'].set_visible(False)
plot_age.spines['right'].set_visible(False)
plot_age.tick_params(axis = 'both', which = 'both', colors = '#6e6e6e', labelsize = 12)

plot_age.set_title('Age Count', fontweight = 'bold', color = '#6e6e6e', fontsize = 14)
plot_age.set_xlabel('User Age', color = '#6e6e6e', fontsize = 14)
plot_age.set_ylabel('Count', color = '#6e6e6e', fontsize = 14)

plt.xticks(ages[::3])
plt.ylim(70, 120);
plt.savefig('../images/bar_age_count.png')




































