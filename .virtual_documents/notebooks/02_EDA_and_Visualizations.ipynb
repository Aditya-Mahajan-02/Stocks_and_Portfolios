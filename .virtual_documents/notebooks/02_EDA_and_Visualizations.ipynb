








# modules needed for this notebook
import numpy as np
import pandas as pd
import matplotlib.pyplot as plt
import seaborn as sns


# read in clean file
file_path = '../data/clean_data/users_clean-data.csv'

users = pd.read_csv(file_path)

# check dimensions and first few rows
print(users.shape)
users.head()


# make cols names snake_case
users.rename(columns = {
    'Age': 'age',
    'Gender': 'gender',
    'City': 'city',
    'Account Type': 'acc_type',
    'Account Balance': 'acc_bal',
    'Account Balance After Transaction': 'acc_bal_aft',
    'Credit Limit': 'credit_limit',
    'Credit Card Balance': 'credit_bal'
}, inplace = True)

# confirm
users.columns





# check missing values and data types
users.info()











def plot_hist_box(df, col_name, title = None, xlabel = None):
    '''
    This function plots a histogram and a boxplot of a column.
    
    Parameters:
    col_name: string, this is the column's name
    title: string, the plot title.  Default value is a blank string.
    xlabel: string, the x-axis label.  Default value is a blank string.
    
    Return:
    It returns two plots.  A histogram on the left and a boxplot on the right.
    '''

    plt.figure(figsize = (16, 6))

    plot1 = plt.subplot(1, 2, 1)  # for histogram
    plot2 = plt.subplot(1, 2, 2)  # for box plot

    # histogram ---------------------------------------------------------------------------------------------
    plot1.hist(df[col_name], bins = 25, color = '#00bcd4', edgecolor = '#ffffff');
    plot1.set_title(title, fontweight = 'bold', color = '#6e6e6e', fontsize = 14)
    plot1.set_xlabel(xlabel, color = '#6e6e6e', fontsize = 14)
    plot1.spines['top'].set_visible(False)
    plot1.spines['right'].set_visible(False)
    plot1.tick_params(axis = 'both', which = 'both', colors = '#6e6e6e', labelsize = 12);
    
    
    # box plot -----------------------------------------------------------------------------------------------
    sns.boxplot(data = df[col_name], ax = plot2, orient = 'h', color = '#00bcd4', medianprops = {'color':'#FFFFFF'});
    plot2.set_title(title, fontweight = 'bold', color = '#6e6e6e', fontsize = 14);
    plot2.spines['top'].set_visible(False)
    plot2.spines['left'].set_visible(False)
    plot2.spines['right'].set_visible(False)
    plot2.set_xlabel(xlabel, color = '#6e6e6e', fontsize = 14)
    plot2.tick_params(axis = 'x', which = 'both', colors = '#6e6e6e', labelsize = 12);





def plot_heatmap(df, columns):
    '''
    This function plots a heatmap of the number of columns passed in.
    
    Parameters:
    columns: list, a list of columns to plot.
    
    Return:
    It returns a heatmap of the columns.
    '''

    plt.figure(figsize = (6, 6))

    # heatmap setup
    corrs = round(df[columns].corr(), 2)
    mask = np.zeros_like(corrs)
    mask[np.triu_indices_from(mask)] = True

    # plot heatmap
    sns.heatmap(corrs,
                square = True,
                annot = True,
                cmap = 'Blues',
                mask = mask,
                vmin = -1,
                vmax = 1);








plt.figure(figsize = (12, 12));

sns.pairplot(users,
             hue = 'gender',
             palette = {             
                        'Female': '#fa57e2',
                        'Male': '#00bcd4',
                        'Other': '#ffae00'
                       }
            );
plt.savefig('../images/users_pairplot.png');





numeric_cols = ['age', 'acc_bal', 'acc_bal_aft', 'credit_limit', 'credit_bal']
plot_heatmap(users, numeric_cols)
plt.savefig('../images/users_numeric_heatmap.png')





plt.figure(figsize = (12, 6))

plot_bal_f = plt.subplot(1, 3, 1)
plot_bal_m = plt.subplot(1, 3, 2)
plot_bal_o = plt.subplot(1, 3, 3)

plot_bal_f.scatter(users[users['gender'] == 'Female']['acc_bal'],
                   users[users['gender'] == 'Female']['acc_bal_aft'],
                   color = '#fa57e2',
                   edgecolors = '#ffffff')

plot_bal_m.scatter(users[users['gender'] == 'Male']['acc_bal'],
                   users[users['gender'] == 'Male']['acc_bal_aft'],
                   color = '#00bcd4',
                   edgecolors = '#ffffff')

plot_bal_o.scatter(users[users['gender'] == 'Other']['acc_bal'],
                   users[users['gender'] == 'Other']['acc_bal_aft'],
                   color = '#ffad00',
                   edgecolors = '#ffffff')

plot_bal_f.set_title('Female', fontweight = 'bold', color = '#6e6e6e', fontsize = 10)
plot_bal_m.set_title('Male', fontweight = 'bold', color = '#6e6e6e', fontsize = 10)
plot_bal_o.set_title('Other', fontweight = 'bold', color = '#6e6e6e', fontsize = 10)

plot_bal_f.set_xlabel('Account Bal.', color = '#6e6e6e', fontsize = 10)
plot_bal_m.set_xlabel('Account Bal.', color = '#6e6e6e', fontsize = 10)
plot_bal_o.set_xlabel('Account Bal.', color = '#6e6e6e', fontsize = 10)
plot_bal_f.set_ylabel('Account Bal. after Transaction', color = '#6e6e6e', fontsize = 10)

plot_bal_f.tick_params(axis = 'both', which = 'both', colors = '#6e6e6e', labelsize = 10)
plot_bal_m.tick_params(axis = 'both', which = 'both', colors = '#6e6e6e', labelsize = 10)
plot_bal_o.tick_params(axis = 'both', which = 'both', colors = '#6e6e6e', labelsize = 10);

plt.savefig('../images/scatterplot_balances_by_gender.png')





female_users = users[users['gender'] == 'Female']
male_users = users[users['gender'] == 'Male']
other_users = users[users['gender'] == 'Other']

plt.figure(figsize = (12, 6))

plot_bal_f_18 = plt.subplot(1, 3, 1)
plot_bal_m_69 = plt.subplot(1, 3, 2)
plot_bal_o_44 = plt.subplot(1, 3, 3)

plot_bal_f_18.scatter(female_users[female_users['age'] == 18]['acc_bal'],
                   female_users[female_users['age'] == 18]['acc_bal_aft'],
                   color = '#fa57e2',
                   edgecolors = '#ffffff')

plot_bal_m_69.scatter(male_users[male_users['age'] == 69]['acc_bal'],
                   male_users[male_users['age'] == 69]['acc_bal_aft'],
                   color = '#00bcd4',
                   edgecolors = '#ffffff')

plot_bal_o_44.scatter(other_users[other_users['age'] == 44]['acc_bal'],
                   other_users[other_users['age'] == 44]['acc_bal_aft'],
                   color = '#ffad00',
                   edgecolors = '#ffffff');

plot_bal_f_18.set_title('Female', fontweight = 'bold', color = '#6e6e6e', fontsize = 10)
plot_bal_m_69.set_title('Male', fontweight = 'bold', color = '#6e6e6e', fontsize = 10)
plot_bal_o_44.set_title('Other', fontweight = 'bold', color = '#6e6e6e', fontsize = 10)

plot_bal_f_18.set_xlabel('Account Bal.', color = '#6e6e6e', fontsize = 10)
plot_bal_m_69.set_xlabel('Account Bal.', color = '#6e6e6e', fontsize = 10)
plot_bal_o_44.set_xlabel('Account Bal.', color = '#6e6e6e', fontsize = 10)
plot_bal_f_18.set_ylabel('Account Bal. after Transaction', color = '#6e6e6e', fontsize = 10)

plot_bal_f_18.tick_params(axis = 'both', which = 'both', colors = '#6e6e6e', labelsize = 10)
plot_bal_m_69.tick_params(axis = 'both', which = 'both', colors = '#6e6e6e', labelsize = 10)
plot_bal_o_44.tick_params(axis = 'both', which = 'both', colors = '#6e6e6e', labelsize = 10);

plt.savefig('../images/scatterplot_balances_by_age_and_gender.png')











# basic stats
users['age'].describe()


print(f"Minimum age: {users['age'].min()}, Maximum age: {users['age'].max()}")


# check histogram for age
plot_hist_box(users, 'age', title = 'Age Histogram', xlabel = 'Ages')
plt.savefig('../images/hist_&_boxplot_age.png')





# user count by age
ages = users['age'].value_counts().sort_index().index        # x categories
age_count = users['age'].value_counts().sort_index().values  # y values

plt.figure(figsize = (12, 6))
plot_age = plt.subplot(1, 1, 1)

plot_age.bar(ages, age_count, color = '#00bcd4')

plot_age.spines['top'].set_visible(False)
plot_age.spines['left'].set_visible(False)
plot_age.spines['right'].set_visible(False)
plot_age.tick_params(axis = 'both', which = 'both', colors = '#6e6e6e', labelsize = 10)

plot_age.set_title('User Count by Age', fontweight = 'bold', color = '#6e6e6e', fontsize = 12)
plot_age.set_xlabel('User Age', color = '#6e6e6e', fontsize = 12)
plot_age.set_ylabel('Count', color = '#6e6e6e', fontsize = 12)

plt.xticks(ages[::3])
plt.ylim(70, 120);
plt.savefig('../images/bar_age_count.png')





# average balance by age
bal_by_age = users.groupby('age')['acc_bal'].mean().values

plt.figure(figsize = (12, 6))
plot_bal_by_age = plt.subplot(1, 1, 1)

plot_bal_by_age.plot(ages, bal_by_age, color = '#003366', label = 'Avg. Bal.')
plot_bal_by_age.axhline(users['acc_bal'].mean(), color='#ff9933', linestyle='--', label = 'Pop. Avg.')
plot_bal_by_age.yaxis.grid(True, which='both', linestyle='--', alpha=0.3)

plot_bal_by_age.spines['top'].set_visible(False)
plot_bal_by_age.spines['left'].set_visible(False)
plot_bal_by_age.spines['right'].set_visible(False)
plot_bal_by_age.tick_params(axis = 'both', which = 'both', colors = '#6e6e6e', labelsize = 10)

plot_bal_by_age.set_title('Average Bal. by Age', fontweight = 'bold', color = '#6e6e6e', fontsize = 12)
plot_bal_by_age.set_xlabel('User Age', color = '#6e6e6e', fontsize = 12)
plot_bal_by_age.set_ylabel('Average Account Balance', color = '#6e6e6e', fontsize = 12)

plt.legend(frameon = False)
plt.xticks(ages[::3]);
plt.savefig('../images/line_avg_bal_by_age.png')





# average credit limit vs. credit card balance by age
credit_limit_by_age = users.groupby('age')['credit_limit'].mean().values
credit_card_bal_by_age = users.groupby('age')['credit_bal'].mean().values


plt.figure(figsize = (12, 6))
plot_cc_by_age = plt.subplot(1, 1, 1)

plot_cc_by_age.plot(ages, credit_limit_by_age, color = '#003366', label = 'Avg. Credit Limit')
plot_cc_by_age.plot(ages, credit_card_bal_by_age, color = '#00bcd4', label = 'Avg. Credit Balance')

plot_cc_by_age.yaxis.grid(True, which='both', linestyle='--', alpha=0.3)
plot_cc_by_age.spines['top'].set_visible(False)
plot_cc_by_age.spines['left'].set_visible(False)
plot_cc_by_age.spines['right'].set_visible(False)
plot_cc_by_age.tick_params(axis = 'both', which = 'both', colors = '#6e6e6e', labelsize = 10)

plot_cc_by_age.set_title('Average Credit Limit and Balance. by Age', fontweight = 'bold', color = '#6e6e6e', fontsize = 12)
plot_cc_by_age.set_xlabel('User Age', color = '#6e6e6e', fontsize = 12)
plot_cc_by_age.set_ylabel('Dollars', color = '#6e6e6e', fontsize = 12)

plt.legend(frameon = False)
plt.xticks(ages[::3]);
plt.savefig('../images/line_credit_avg_by_age.png')








# user count by gender
users['gender'].value_counts().reset_index()





# avg balance by gender
users.groupby(['gender', 'acc_type'])['acc_bal'].mean().reset_index()


# avg credit limit by gender
users.groupby('gender')['credit_limit'].mean().reset_index()


# avg credit balance by gender
users.groupby('gender')['credit_bal'].mean().reset_index()








# how many cities are represented?
print(f"There are {users['city'].nunique()} unique cities")


# what's the user count by city?
users.groupby('city')['city'].count().sort_values(ascending = False).to_frame()





# what's the average account balance by city?
cities = users.groupby('city')['acc_bal'].mean().sort_index(ascending = False).index
avg_bal = users.groupby('city')['acc_bal'].mean().sort_index(ascending = False).values

plt.figure(figsize = (12, 12))
plot_city = plt.subplot(1, 1, 1)

plot_city.barh(cities, avg_bal, height = 0.8, color = '#00bcd4')

plot_city.spines['top'].set_visible(False)
plot_city.spines['left'].set_visible(False)
plot_city.spines['right'].set_visible(False)
plot_city.tick_params(axis = 'both', which = 'both', colors = '#6e6e6e', labelsize = 10)

plot_city.set_title('Avg. Account Bal. by City', fontweight = 'bold', color = '#6e6e6e', fontsize = 12)
plot_city.set_xlabel('Dollars', color = '#6e6e6e', fontsize = 12)

plt.xlim(4000, 5500);
plt.savefig('../images/bar_h_avg_by_city.png')








users['acc_type'].value_counts().reset_index()








users['acc_bal'].describe().round().reset_index().T


plot_hist_box(users, 'acc_bal', title = 'Account Bal. Histogram', xlabel = 'Dollars')
plt.savefig('../images/hist_&_boxplot_acc_bal.png')





# what's the distribution for balances below the mean?
plot_hist_box(users[users['acc_bal'] < users['acc_bal'].mean()], 
              'acc_bal', 
              title = f"Avg. Balances under {round(users['acc_bal'].mean())}", 
              xlabel = 'Dollars')
#plt.savefig('../images/hist_&_boxplot_acc_bal.png')








users['acc_bal_aft'].describe().round().reset_index().T


plot_hist_box(users, 'acc_bal_aft', title = 'Account Bal. Histogram', xlabel = 'Dollars')
#plt.savefig('../images/hist_&_boxplot_acc_bal.png')





plot_hist_box(users[users['acc_bal_aft'] < 0], 'acc_bal_aft')








users['credit_limit'].describe().round().reset_index().T


plot_hist_box(users, 'credit_limit', title = 'Credit Limit Histogram', xlabel = 'Dollars')
#plt.savefig('../images/hist_&_boxplot_acc_bal.png')








users['credit_bal'].describe().round().reset_index().T


plot_hist_box(users, 'credit_bal', title = 'Credit Balances Histogram', xlabel = 'Dollars')



