








# modules needed for this notebook
import numpy as np
import pandas as pd
import matplotlib.pyplot as plt
import seaborn as sns

# other modules
from datetime import datetime as dt


# read in clean file
file_path = '../data/clean_data/stocks-clean-data.csv'

stocks = pd.read_csv(file_path)
stocks.drop(columns = 'Unnamed: 0', inplace = True)

# check dimensions and first few rows
print(stocks.shape)
stocks.head()





stocks.columns


# make two column name changes
stocks.rename(columns = {'volume_weighted':'weighted_volume',
                          'Symbol': 'symbol'
                         }, inplace = True)


# check nulls and data types
stocks.info()








# convert to seconds then transform to date time object
stocks['date'] = stocks['timestamp'].map(lambda x: dt.fromtimestamp(x/1000))


# confirm
print(stocks.shape)
stocks.tail()








def plot_hist_box(df, col_name, title = None, xlabel = None):
    '''
    This function plots a histogram and a boxplot of a column.
    
    Parameters:
    col_name: string, this is the column's name
    title: string, the plot title.  Default value is a blank string.
    xlabel: string, the x-axis label.  Default value is a blank string.
    
    Return:
    It returns two plots.  A histogram on the left and a boxplot on the right.
    '''

    plt.figure(figsize = (16, 6))

    plot1 = plt.subplot(1, 2, 1)  # for histogram
    plot2 = plt.subplot(1, 2, 2)  # for box plot

    # histogram ---------------------------------------------------------------------------------------------
    plot1.hist(df[col_name], bins = 25, color = '#00bcd4', edgecolor = '#ffffff');
    plot1.set_title(title, fontweight = 'bold', color = '#6e6e6e', fontsize = 14)
    plot1.set_xlabel(xlabel, color = '#6e6e6e', fontsize = 14)
    plot1.spines['top'].set_visible(False)
    plot1.spines['right'].set_visible(False)
    plot1.tick_params(axis = 'both', which = 'both', colors = '#6e6e6e', labelsize = 12);
    
    
    # box plot -----------------------------------------------------------------------------------------------
    sns.boxplot(data = df[col_name], ax = plot2, orient = 'h', color = '#00bcd4', medianprops = {'color':'#FFFFFF'});
    plot2.set_title(title, fontweight = 'bold', color = '#6e6e6e', fontsize = 14);
    plot2.spines['top'].set_visible(False)
    plot2.spines['left'].set_visible(False)
    plot2.spines['right'].set_visible(False)
    plot2.set_xlabel(xlabel, color = '#6e6e6e', fontsize = 14)
    plot2.tick_params(axis = 'x', which = 'both', colors = '#6e6e6e', labelsize = 12);





def plot_heatmap(df, columns):
    '''
    This function plots a heatmap of the number of columns passed in.
    
    Parameters:
    columns: list, a list of columns to plot.
    
    Return:
    It returns a heatmap of the columns.
    '''

    plt.figure(figsize = (12, 12))

    # heatmap setup
    corrs = round(df[columns].corr(), 2)
    mask = np.zeros_like(corrs)
    mask[np.triu_indices_from(mask)] = True

    # plot heatmap
    sns.heatmap(corrs,
                square = True,
                annot = True,
                cmap = 'Blues',
                mask = mask,
                vmin = -1,
                vmax = 1);





def scatter_plots(start, stop):
    '''
    Fill in...
    '''
    plt.figure(figsize = (15, 5))
    
    for idx, symbol in enumerate(tickers[start:stop]):
        
        x = stocks[stocks['symbol'] == symbol]['volume_weighted']
        y = stocks[stocks['symbol'] == symbol]['volatility']
        
        ax = plt.subplot(1, 5, idx+1)
        ax.scatter(x, y, color = '#00bcd4', edgecolors = '#ffffff')
        
        trend = np.polyfit(x, y, 1)
        trend_line = np.poly1d(trend)
        correlation = round(np.corrcoef(x, y)[0, 1], 2)

        ax.plot(x, trend_line(x), color = '#003366', linestyle = '--')
        
        ax.set_title(f'{symbol}:  {correlation}');








plt.figure(figsize = (12, 12));
sns.pairplot(stocks);
#plt.savefig('../images/stocks_pairplot.png');





plot_heatmap(stocks, 
             stocks.drop(columns = ['symbol', 'date']).columns)
#plt.savefig('../images/stocks_heatmap.png')








plt.figure(figsize = (6, 6))
plot1 = plt.subplot(1, 1, 1)

plot1.scatter(stocks['weighted_volume'],
              stocks['volatility'],
              color = '#00bcd4',
              edgecolors = '#ffffff')



plot1.set_title('Weighted Vol. vs. Volatility', fontweight = 'bold', color = '#6e6e6e', fontsize = 10)
plot1.set_xlabel('Weighted Volume', color = '#6e6e6e', fontsize = 10)
plot1.set_ylabel('Stock Volatility', color = '#6e6e6e', fontsize = 10);

#plt.savefig('../images/scatterplot_vol_vs_volatility.png')








plot_hist_box(stocks, 'weighted_volume',
              title = 'Weighted Vol. Histogram',
              xlabel = 'Weighted Volume')

#plt.savefig('../images/hist_&_boxplot_volume_weighted.png')


stocks['weighted_volume'].describe().round().reset_index().T








plot_hist_box(stocks, 'volatility',
              title = 'Stock Volatility Histogram',
              xlabel = 'Volatility')

#plt.savefig('../images/hist_&_boxplot_volatility.png')


stocks['volatility'].describe().round().reset_index().T








plt.figure(figsize = (6, 6))
plot1 = plt.subplot(1, 1, 1)

plot1.scatter(stocks['weighted_volume'],
              stocks['price_range'],
              color = '#00bcd4',
              edgecolors = '#ffffff')



plot1.set_title('Weighted Vol. vs. Price Range', fontweight = 'bold', color = '#6e6e6e', fontsize = 10)
plot1.set_xlabel('Weighted Volume', color = '#6e6e6e', fontsize = 10)
plot1.set_ylabel('Stock Price Range', color = '#6e6e6e', fontsize = 10);

#plt.savefig('../images/scatterplot_vol_vs_pricerange.png')








plot_hist_box(stocks, 'price_range',
              title = 'Price Range Histogram',
              xlabel = 'Price Range')

#plt.savefig('../images/hist_&_boxplot_pricerange.png')


stocks['price_range'].describe().round().reset_index().T








plt.figure(figsize = (6, 6))
plot1 = plt.subplot(1, 1, 1)

plot1.scatter(stocks['price_range'],
              stocks['volatility'],
              color = '#00bcd4',
              edgecolors = '#ffffff')



plot1.set_title('Price Range. vs. Volatility', fontweight = 'bold', color = '#6e6e6e', fontsize = 10)
plot1.set_xlabel('Price Range', color = '#6e6e6e', fontsize = 10)
plot1.set_ylabel('Stock Volatility', color = '#6e6e6e', fontsize = 10);

#plt.savefig('../images/scatterplot_pricerange_vs_volatility.png')








# 1:  group by stock symbol and calculate correlation between weighted vol and volatility
# build a new DF with this logic
stock_correlations = stocks.groupby('symbol')[['weighted_volume', 'volatility']].corr().reset_index()

# 2:  then select ONLY the rows were the correlation values are NOT 1.0
# reassign to dataframe
stock_correlations = stock_correlations[stock_correlations['volatility'] != 1]

# 3:  then drop all columns but symbol and volatility
stock_correlations.drop(columns = ['level_1', 'weighted_volume'], inplace = True)

# 4:  then rename volatility column to corr_weighted_vol_vs_volatility
stock_correlations.rename(columns = {'volatility': 'corr_weighted_vol_vs_volatility'}, inplace = True)

# 5:  then reset the index
stock_correlations.reset_index(drop = True, inplace = True)

# 6:  confirm results
print(stock_correlations.shape)
stock_correlations.tail()





# 1:  group by stock symbol and calculate desired correlation
# build a new DF with this logic
df1 = stocks.groupby('symbol')[['weighted_volume', 'price_range']].corr().reset_index()
df2 = stocks.groupby('symbol')[['price_range', 'volatility']].corr().reset_index()

# 2:  then select ONLY the rows were the correlation values are NOT 1.0
# reassign to dataframe
df1 = df1[df1['price_range'] != 1]
df2 = df2[df2['volatility'] != 1]

# 3:  then drop unneeded columns
df1.drop(columns = ['level_1', 'weighted_volume'], inplace = True)
df2.drop(columns = ['level_1', 'price_range'], inplace = True)

# 4:  then reset the index
df1.reset_index(drop = True, inplace = True)
df2.reset_index(drop = True, inplace = True)

# 5:  then add as new column to stock_correlations DF
stock_correlations['corr_weighted_vol_vs_price_range'] = df1['price_range']
stock_correlations['corr_price_range_vs_volatility'] = df2['volatility']

# 6:  confirm results
print(stock_correlations.shape)
stock_correlations.tail(2)


stock_correlations.describe()





plot_hist_box(df = stock_correlations, 
              col_name = 'corr_weighted_vol_vs_volatility', 
              title = 'Correlations: Weighted Vol. vs. Volatility',
              xlabel = 'Correlation Coefficients')

#plt.savefig('../images/hist_&_boxplot_correlation01.png')





plot_hist_box(df = stock_correlations, 
              col_name = 'corr_weighted_vol_vs_price_range', 
              title = 'Correlations: Weighted Vol. vs. Price Range',
              xlabel = 'Correlation Coefficients')

#plt.savefig('../images/hist_&_boxplot_correlation02.png')





plot_hist_box(df = stock_correlations, 
              col_name = 'corr_price_range_vs_volatility', 
              title = 'Correlations: Price Range vs. Volatility',
              xlabel = 'Correlation Coefficients')

#plt.savefig('../images/hist_&_boxplot_correlation03.png')

















# first, add new column to stock_correlations
stock_correlations['avg_pct_change'] = stocks.groupby('symbol')['price_change_percentage'].mean().values

# confirm
stock_correlations.head(2)


# positively correlated
group1 = stock_correlations[stock_correlations['corr_weighted_vol_vs_volatility'] > 0]
print(f'Positively correlated stocks: {group1.shape[0]}')

# negatively correlated
group2 = stock_correlations[stock_correlations['corr_weighted_vol_vs_volatility'] < 0]
print(f'Positively correlated stocks: {group2.shape[0]}')





# setup the box
plt.figure(figsize = (12, 12))
plot3 = plt.subplot(1, 1, 1)

# use avg pct change to size bubbles, scale by 500 to make bigger
bubble_sizes = np.abs(stock_correlations['avg_pct_change']) * 500

# assign colors to both groups, red for negative, green for positive
colors = ['#2a9d77' if value > 0 else '#00bcd4' for value in stock_correlations['corr_weighted_vol_vs_volatility']]

# chart and parameters from here on down ---------------------------
plot3.scatter(stock_correlations['avg_pct_change'], 
              stock_correlations['corr_weighted_vol_vs_volatility'], 
              s = bubble_sizes, 
              color = colors, 
              alpha = 0.6, 
              edgecolor = '#ffffff')


plot3.set_title('Stock Groupings')
plot3.set_xlabel('Avg. Percent Price Change')
plot3.set_ylabel('Corr. Coefficients: Weighted Vol. vs. Volatility')

plt.axhline(0, color = '#b0b0b0', linestyle =':')
plt.axvline(0, color = '#b0b0b0', linestyle =':')

#plt.savefig('../images/scatterplot_grp1_vs_grp2.png')











# positively correlated
group3 = stock_correlations[stock_correlations['corr_weighted_vol_vs_price_range'] > 0]
print(f'Positively correlated stocks: {group3.shape[0]}')

# negatively correlated
group4 = stock_correlations[stock_correlations['corr_weighted_vol_vs_price_range'] < 0]
print(f'Positively correlated stocks: {group4.shape[0]}')





plt.figure(figsize = (12, 12))
plot3 = plt.subplot(1, 1, 1)

bubble_sizes = np.abs(stock_correlations['avg_pct_change']) * 500
colors = ['#2a9d77' if value > 0 else '#00bcd4' for value in stock_correlations['corr_weighted_vol_vs_price_range']]

plot3.scatter(stock_correlations['avg_pct_change'], 
              stock_correlations['corr_weighted_vol_vs_price_range'], 
              s = bubble_sizes, 
              color = colors, 
              alpha = 0.6, 
              edgecolor = '#ffffff')


plot3.set_title('Stock Groupings')
plot3.set_xlabel('Avg. Percent Price Change')
plot3.set_ylabel('Corr. Coefficients: Weighted Vol. vs. Price Range')


plt.axhline(0, color = '#b0b0b0', linestyle =':')
plt.axvline(0, color = '#b0b0b0', linestyle =':')

#plt.savefig('../images/scatterplot_grp3_vs_grp4.png')











# positively correlated
group5 = stock_correlations[stock_correlations['corr_price_range_vs_volatility'] > 0]
print(f'Positively correlated stocks: {group5.shape[0]}')

# negatively correlated
group6 = stock_correlations[stock_correlations['corr_price_range_vs_volatility'] < 0]
print(f'Positively correlated stocks: {group6.shape[0]}')





plt.figure(figsize = (12, 12))
plot3 = plt.subplot(1, 1, 1)

bubble_sizes = np.abs(stock_correlations['avg_pct_change']) * 500
colors = ['#2a9d77' if value > 0 else '#00bcd4' for value in stock_correlations['corr_price_range_vs_volatility']]

plot3.scatter(stock_correlations['avg_pct_change'], 
              stock_correlations['corr_price_range_vs_volatility'], 
              s = bubble_sizes, 
              color = colors, 
              alpha = 0.6, 
              edgecolor = '#ffffff')


plot3.set_title('Stock Groupings')
plot3.set_xlabel('Avg. Percent Price Change')
plot3.set_ylabel('Corr. Coefficients: Price Range. vs. Volatility')


plt.axhline(0, color = '#b0b0b0', linestyle =':')
plt.axvline(0, color = '#b0b0b0', linestyle =':')

#plt.savefig('../images/scatterplot_grp5_vs_grp6.png')











output_path1 = '../data/clean_data/stocks-clean-data-2.csv'
output_path2 = '../data/clean_data/stock-correlations.csv'

stocks.to_csv(output_path1, index = False)
stock_correlations.to_csv(output_path2, index = False)
