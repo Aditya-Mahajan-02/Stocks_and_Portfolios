








# modules needed for this notebook
import numpy as np
import pandas as pd
import matplotlib.pyplot as plt
import seaborn as sns

# other modules
from datetime import datetime as dt


# read in clean file
file_path = 'https://raw.githubusercontent.com/Aditya-Mahajan-02/Stocks_and_Portfolios/refs/heads/navi/data/clean_data/stocks-clean-data.csv'

stocks = pd.read_csv(file_path)

# check dimensions and first few rows
print(stocks.shape)
stocks.head()





stocks.columns


# check nulls and data types
stocks.info()








# convert to seconds then transform to date time object
stocks['date'] = stocks['timestamp'].map(lambda x: dt.fromtimestamp(x/1000))

stocks['hour_minute'] = stocks['date'].map(lambda x: x.strftime('%H:%M'))


# confirm
print(stocks.shape)
stocks.tail()








def plot_hist_box(df, col_name, title = None, xlabel = None):
    '''
    This function plots a histogram and a boxplot of a column.
    
    Parameters:
    col_name: string, this is the column's name
    title: string, the plot title.  Default value is a blank string.
    xlabel: string, the x-axis label.  Default value is a blank string.
    
    Return:
    It returns two plots.  A histogram on the left and a boxplot on the right.
    '''

    plt.figure(figsize = (16, 6))

    plot1 = plt.subplot(1, 2, 1)  # for histogram
    plot2 = plt.subplot(1, 2, 2)  # for box plot

    # histogram ---------------------------------------------------------------------------------------------
    plot1.hist(df[col_name], bins = 25, color = '#00bcd4', edgecolor = '#ffffff');
    plot1.set_title(title, fontweight = 'bold', color = '#6e6e6e', fontsize = 14)
    plot1.set_xlabel(xlabel, color = '#6e6e6e', fontsize = 14)
    plot1.spines['top'].set_visible(False)
    plot1.spines['right'].set_visible(False)
    plot1.tick_params(axis = 'both', which = 'both', colors = '#6e6e6e', labelsize = 12);
    
    
    # box plot -----------------------------------------------------------------------------------------------
    sns.boxplot(data = df[col_name], ax = plot2, orient = 'h', color = '#00bcd4', medianprops = {'color':'#FFFFFF'});
    plot2.set_title(title, fontweight = 'bold', color = '#6e6e6e', fontsize = 14);
    plot2.spines['top'].set_visible(False)
    plot2.spines['left'].set_visible(False)
    plot2.spines['right'].set_visible(False)
    plot2.set_xlabel(xlabel, color = '#6e6e6e', fontsize = 14)
    plot2.tick_params(axis = 'x', which = 'both', colors = '#6e6e6e', labelsize = 12);





def plot_heatmap(df, columns):
    '''
    This function plots a heatmap of the number of columns passed in.
    
    Parameters:
    columns: list, a list of columns to plot.
    
    Return:
    It returns a heatmap of the columns.
    '''

    plt.figure(figsize = (12, 12))

    # heatmap setup
    corrs = round(df[columns].corr(), 2)
    mask = np.zeros_like(corrs)
    mask[np.triu_indices_from(mask)] = True

    # plot heatmap
    sns.heatmap(corrs,
                square = True,
                annot = True,
                cmap = 'Blues',
                mask = mask,
                vmin = -1,
                vmax = 1);








plt.figure(figsize = (12, 12));
sns.pairplot(stocks);
plt.savefig('../images/stocks_pairplot.png');





plot_heatmap(stocks, 
             stocks.drop(columns = ['date','hour_minute']).columns)
plt.savefig('../images/stocks_heatmap.png')








plt.figure(figsize = (6, 6))
plot1 = plt.subplot(1, 1, 1)

plot1.scatter(stocks['volume_weighted'],
              stocks['volatility'],
              color = '#00bcd4',
              edgecolors = '#ffffff')



plot1.set_title('Weighted Vol. vs. Volatility', fontweight = 'bold', color = '#6e6e6e', fontsize = 10)
plot1.set_xlabel('Weighted Volume', color = '#6e6e6e', fontsize = 10)
plot1.set_ylabel('Stock Volatility', color = '#6e6e6e', fontsize = 10);

plt.savefig('../images/scatterplot_vol_vs_volatility.png')








plot_hist_box(stocks, 'volume_weighted',
              title = 'Weighted Vol. Histogram',
              xlabel = 'Weighted Volume')

plt.savefig('../images/hist_&_boxplot_volume_weighted.png')


stocks['volume_weighted'].describe().round().reset_index().T








plot_hist_box(stocks, 'volatility',
              title = 'Stock Volatility Histogram',
              xlabel = 'Volatility')

plt.savefig('../images/hist_&_boxplot_volatility.png')


stocks['volatility'].describe().round().reset_index().T















