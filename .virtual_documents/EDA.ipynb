# Imports 
import pandas as pd
import matplotlib.pyplot as plt
import seaborn as sns


# Load in the Data 
df = pd.read_csv("./data/Comprehensive_Banking_Database.csv")


df.head()
df['Customer ID'].tail()


df.columns


df.shape


newdf = df[[ 'Age', 'City',  'Account Balance', 'Gender']]
newdf.index = df['Customer ID']
newdf.head()


len(newdf['City'].unique())


plt.figure(figsize=(16,8))
sns.scatterplot(data = over50, x = 'Age', y = 'Account Balance' , hue='City')
plt.legend(bbox_to_anchor = (1.05,1), loc = "upper left")


over50 = newdf[newdf['Age'] > 50]
cinc = newdf[newdf['City'] == 'Dallas']


over50.head()


plt.figure(figsize=(16,8))
sns.scatterplot(data = cinc, x = 'Age', y = 'Account Balance' , hue='City')
plt.legend(bbox_to_anchor = (1.05,1), loc = "upper left")



